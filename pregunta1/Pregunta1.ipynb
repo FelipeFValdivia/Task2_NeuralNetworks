{
 "cells": [
  {
   "cell_type": "markdown",
   "metadata": {},
   "source": [
    "<p>Prepare subconjuntos de entrenamiento, validaci´on y pruebas id´enticos a los que utiliz´o en el ´ultimo\n",
    "´ıtem de la tarea 1. Normalice las im´agenes de entrenamiento y pruebas, dividiendo las intensidades\n",
    "originales de pixel en cada canal por 255. Es importante recordar que en la tarea1 representamos las\n",
    "im´agenes como un vector unidimensional. Por lo tanto, antes de trabajar con CNNs ser´a necesario\n",
    "recuperar la forma original de las im´agenes. Adem´as, si desea trabajar con el orden de las dimensiones\n",
    "denominado ’tf’ (por defecto para TensorFlow†) deber´a hacer realizar la transposici´on correspondiente.\n",
    "Finalmente, genere una representaci´on adecuada de las salidas deseadas de la red.</p>"
   ]
  },
  {
   "cell_type": "code",
   "execution_count": 1,
   "metadata": {
    "collapsed": false
   },
   "outputs": [
    {
     "name": "stderr",
     "output_type": "stream",
     "text": [
      "Using TensorFlow backend.\n"
     ]
    }
   ],
   "source": [
    "import keras\n",
    "import pickle\n",
    "import numpy as np\n",
    "import os\n",
    "from scipy.misc import imread\n",
    "import sys\n",
    "from keras import backend as K\n",
    "K.set_image_dim_ordering('th')\n",
    "\n",
    "sys.getdefaultencoding()\n",
    "\n",
    "def unpickle(file):\n",
    "    import cPickle\n",
    "    fo = open(file, rb)\n",
    "    dict = cPickle.load(fo)\n",
    "    fo.close()\n",
    "    return dict\n",
    "\n",
    "label_names = ['airplane', 'automobile', 'bird', 'cat', 'deer', 'dog', 'frog', 'horse', 'ship', 'truck']\n",
    "\n",
    "\n",
    "\n",
    "def load_CIFAR_one(filename):\n",
    "    with open(filename, 'rb') as f:\n",
    "        datadict = pickle.load(f, encoding='latin1')\n",
    "        X = datadict['data']\n",
    "        Y = datadict['labels']\n",
    "        Y = np.array(Y)\n",
    "    return X, Y\n",
    "\n",
    "def load_CIFAR10(PATH):\n",
    "    xs = []\n",
    "    ys = []\n",
    "    for b in range(1,6):\n",
    "        f = os.path.join(PATH, 'data_batch_%d' % (b, ))\n",
    "        X, Y = load_CIFAR_one(f)\n",
    "        xs.append(X)\n",
    "        ys.append(Y)\n",
    "    Xtr = np.concatenate(xs)\n",
    "    Ytr = np.concatenate(ys)\n",
    "    del X, Y\n",
    "    Xte, Yte = load_CIFAR_one(os.path.join(PATH, 'test_batch'))\n",
    "    return Xtr, Ytr, Xte, Yte\n",
    "\n",
    "x_train, y_train, x_test, y_test = load_CIFAR10(\"datasets/\")\n",
    "num_classes = len(np.unique(y_train))\n",
    "x_train = x_train.reshape((x_train.shape[0],3,32,32))\n",
    "\n",
    "x_test= x_test.reshape((x_test.shape[0],3,32,32))\n",
    "\n",
    "y_train = keras.utils.to_categorical(y_train, num_classes)\n",
    "y_test = keras.utils.to_categorical(y_test, num_classes)\n",
    "\n",
    "x_train = x_train.astype('float32')\n",
    "x_test = x_test.astype('float32')\n",
    "x_train /= 255\n",
    "x_test /= 255\n"
   ]
  },
  {
   "cell_type": "markdown",
   "metadata": {},
   "source": [
    "<p>B) Defina una CNN con arquitectura C × P × C × P × F × F. Para ambas capas convolucionales utilice\n",
    "64 filtros de 3 × 3 y funciones de activaci´on ReLu. Para las capas de pooling utilice filtros de 2 × 2 con\n",
    "stride 2. Para la capa MLP escondida use 512 neuronas. Genere un esquema lo m´as compacto posible\n",
    "que muestre los cambios de forma (dimensionalidad) que experimenta un patr´on de entrada a medida\n",
    "que se ejecuta un forward-pass y el n´umero de par´ametros de cada capa.\n",
    "</p>"
   ]
  },
  {
   "cell_type": "code",
   "execution_count": 6,
   "metadata": {
    "collapsed": false,
    "scrolled": false
   },
   "outputs": [
    {
     "name": "stdout",
     "output_type": "stream",
     "text": [
      "(50000, 3, 32, 32)\n",
      "_________________________________________________________________\n",
      "Layer (type)                 Output Shape              Param #   \n",
      "=================================================================\n",
      "conv2d_3 (Conv2D)            (None, 64, 32, 32)        1792      \n",
      "_________________________________________________________________\n",
      "activation_5 (Activation)    (None, 64, 32, 32)        0         \n",
      "_________________________________________________________________\n",
      "max_pooling2d_3 (MaxPooling2 (None, 64, 16, 16)        0         \n",
      "_________________________________________________________________\n",
      "conv2d_4 (Conv2D)            (None, 64, 16, 16)        36928     \n",
      "_________________________________________________________________\n",
      "activation_6 (Activation)    (None, 64, 16, 16)        0         \n",
      "_________________________________________________________________\n",
      "max_pooling2d_4 (MaxPooling2 (None, 64, 8, 8)          0         \n",
      "_________________________________________________________________\n",
      "flatten_2 (Flatten)          (None, 4096)              0         \n",
      "_________________________________________________________________\n",
      "dense_3 (Dense)              (None, 512)               2097664   \n",
      "_________________________________________________________________\n",
      "activation_7 (Activation)    (None, 512)               0         \n",
      "_________________________________________________________________\n",
      "dense_4 (Dense)              (None, 10)                5130      \n",
      "_________________________________________________________________\n",
      "activation_8 (Activation)    (None, 10)                0         \n",
      "=================================================================\n",
      "Total params: 2,141,514\n",
      "Trainable params: 2,141,514\n",
      "Non-trainable params: 0\n",
      "_________________________________________________________________\n"
     ]
    },
    {
     "name": "stderr",
     "output_type": "stream",
     "text": [
      "D:\\Users\\Felipe\\Anaconda3\\envs\\tensorflow\\lib\\site-packages\\ipykernel\\__main__.py:7: UserWarning: Update your `Conv2D` call to the Keras 2 API: `Conv2D(64, (3, 3), padding=\"same\", input_shape=(3, 32, 32...)`\n",
      "D:\\Users\\Felipe\\Anaconda3\\envs\\tensorflow\\lib\\site-packages\\ipykernel\\__main__.py:9: UserWarning: Update your `MaxPooling2D` call to the Keras 2 API: `MaxPooling2D(pool_size=(2, 2), data_format=\"channels_first\")`\n",
      "D:\\Users\\Felipe\\Anaconda3\\envs\\tensorflow\\lib\\site-packages\\ipykernel\\__main__.py:10: UserWarning: Update your `Conv2D` call to the Keras 2 API: `Conv2D(64, (3, 3), padding=\"same\")`\n"
     ]
    }
   ],
   "source": [
    "from keras.models import Sequential\n",
    "from keras.layers import Dense, Dropout, Activation, Flatten\n",
    "from keras.layers import Convolution2D, MaxPooling2D\n",
    "\n",
    "model = Sequential()\n",
    "print(x_train.shape)\n",
    "model.add(Convolution2D(64, 3, 3, border_mode='same', input_shape=(3,32,32)))\n",
    "model.add(Activation('relu'))\n",
    "model.add(MaxPooling2D(pool_size=(2, 2), dim_ordering=\"th\"))\n",
    "model.add(Convolution2D(64, 3, 3, border_mode='same'))\n",
    "model.add(Activation('relu'))\n",
    "model.add(MaxPooling2D(pool_size=(2, 2)))\n",
    "model.add(Flatten())\n",
    "model.add(Dense(512))\n",
    "model.add(Activation('relu'))\n",
    "model.add(Dense(num_classes))\n",
    "model.add(Activation('softmax'))\n",
    "model.summary()\n"
   ]
  },
  {
   "cell_type": "markdown",
   "metadata": {
    "collapsed": false
   },
   "source": [
    "<p>C) Entrene la CNN definida en (b) utilizando SGD. En este dataset, una tasa de aprendizaje \\segura\"\n",
    "es \u0011 = 10􀀀4 o inferior, pero durante las primeras \\epochs\" el entrenamiento resulta demasiado lento.\n",
    "Para resolver el problema aprenderemos a controlar la tasa de aprendizaje utilizada en el entrenamiento.\n",
    "Implemente la siguiente idea: deseamos partir con una tasa de aprendizaje \u0011 = 10􀀀3 y dividir por 2\n",
    "ese valor cada 10 epochs. Suponga adem\u0013as que no queremos usar una tasa de aprendizaje menor a\n",
    "\u0011 = 10􀀀5. De\f",
    "na esta regla de ajuste para \u0011 y entrene la CNN de\f",
    "nida en (a) durante 25 epochs.\n",
    "Construya un gr\u0013a\f",
    "co que muestre los errores de entrenamiento, validaci\u0013on y pruebas como funci\u0013on del\n",
    "n\u0013umero de \\epochs\".</p>"
   ]
  },
  {
   "cell_type": "code",
   "execution_count": 4,
   "metadata": {
    "collapsed": false
   },
   "outputs": [
    {
     "name": "stdout",
     "output_type": "stream",
     "text": [
      "<function step_decay at 0x00000138A0AC1620>\n"
     ]
    },
    {
     "name": "stderr",
     "output_type": "stream",
     "text": [
      "D:\\Users\\Felipe\\Anaconda3\\envs\\tensorflow\\lib\\site-packages\\keras\\models.py:837: UserWarning: The `nb_epoch` argument in `fit` has been renamed `epochs`.\n",
      "  warnings.warn('The `nb_epoch` argument in `fit` '\n"
     ]
    },
    {
     "name": "stdout",
     "output_type": "stream",
     "text": [
      "Train on 50000 samples, validate on 10000 samples\n",
      "Epoch 1/25\n",
      "50000/50000 [==============================] - 38s - loss: 2.2701 - acc: 0.1605 - val_loss: 2.2264 - val_acc: 0.2220\n",
      "Epoch 2/25\n",
      "50000/50000 [==============================] - 38s - loss: 2.1489 - acc: 0.2550 - val_loss: 2.0517 - val_acc: 0.2754\n",
      "Epoch 3/25\n",
      "50000/50000 [==============================] - 37s - loss: 1.9965 - acc: 0.2951 - val_loss: 1.9492 - val_acc: 0.3179\n",
      "Epoch 4/25\n",
      "50000/50000 [==============================] - 37s - loss: 1.9285 - acc: 0.3207 - val_loss: 1.8991 - val_acc: 0.3318\n",
      "Epoch 5/25\n",
      "50000/50000 [==============================] - 38s - loss: 1.8870 - acc: 0.3428 - val_loss: 1.8685 - val_acc: 0.3502\n",
      "Epoch 6/25\n",
      "50000/50000 [==============================] - 38s - loss: 1.8593 - acc: 0.3528 - val_loss: 1.8402 - val_acc: 0.3654\n",
      "Epoch 7/25\n",
      "50000/50000 [==============================] - 38s - loss: 1.8324 - acc: 0.3653 - val_loss: 1.8135 - val_acc: 0.3729\n",
      "Epoch 8/25\n",
      "50000/50000 [==============================] - 38s - loss: 1.8060 - acc: 0.3746 - val_loss: 1.7892 - val_acc: 0.3804\n",
      "Epoch 9/25\n",
      "50000/50000 [==============================] - 37s - loss: 1.7784 - acc: 0.3844 - val_loss: 1.7615 - val_acc: 0.3931\n",
      "Epoch 10/25\n",
      "50000/50000 [==============================] - 37s - loss: 1.7541 - acc: 0.3923 - val_loss: 1.7413 - val_acc: 0.3990\n",
      "Epoch 11/25\n",
      "50000/50000 [==============================] - 37s - loss: 1.7395 - acc: 0.3981 - val_loss: 1.7315 - val_acc: 0.3982\n",
      "Epoch 12/25\n",
      "50000/50000 [==============================] - 37s - loss: 1.7259 - acc: 0.4031 - val_loss: 1.7157 - val_acc: 0.4097\n",
      "Epoch 13/25\n",
      "50000/50000 [==============================] - 37s - loss: 1.7118 - acc: 0.4078 - val_loss: 1.7003 - val_acc: 0.4112\n",
      "Epoch 14/25\n",
      "50000/50000 [==============================] - 37s - loss: 1.6979 - acc: 0.4125 - val_loss: 1.6892 - val_acc: 0.4141\n",
      "Epoch 15/25\n",
      "50000/50000 [==============================] - 37s - loss: 1.6856 - acc: 0.4177 - val_loss: 1.6783 - val_acc: 0.4202\n",
      "Epoch 16/25\n",
      "50000/50000 [==============================] - 37s - loss: 1.6784 - acc: 0.4198 - val_loss: 1.6715 - val_acc: 0.4236\n",
      "Epoch 17/25\n",
      "50000/50000 [==============================] - 37s - loss: 1.6713 - acc: 0.4230 - val_loss: 1.6645 - val_acc: 0.4279\n",
      "Epoch 18/25\n",
      "50000/50000 [==============================] - 37s - loss: 1.6648 - acc: 0.4257 - val_loss: 1.6575 - val_acc: 0.4279\n",
      "Epoch 19/25\n",
      "50000/50000 [==============================] - 37s - loss: 1.6574 - acc: 0.4272 - val_loss: 1.6499 - val_acc: 0.4302\n",
      "Epoch 20/25\n",
      "50000/50000 [==============================] - 37s - loss: 1.6512 - acc: 0.4310 - val_loss: 1.6456 - val_acc: 0.4307\n",
      "Epoch 21/25\n",
      "50000/50000 [==============================] - 37s - loss: 1.6476 - acc: 0.4329 - val_loss: 1.6423 - val_acc: 0.4321\n",
      "Epoch 22/25\n",
      "50000/50000 [==============================] - 37s - loss: 1.6446 - acc: 0.4324 - val_loss: 1.6390 - val_acc: 0.4345\n",
      "Epoch 23/25\n",
      "50000/50000 [==============================] - 37s - loss: 1.6411 - acc: 0.4339 - val_loss: 1.6359 - val_acc: 0.4328\n",
      "Epoch 24/25\n",
      "50000/50000 [==============================] - 37s - loss: 1.6376 - acc: 0.4356 - val_loss: 1.6331 - val_acc: 0.4318\n",
      "Epoch 25/25\n",
      "50000/50000 [==============================] - 37s - loss: 1.6347 - acc: 0.4359 - val_loss: 1.6301 - val_acc: 0.4368\n"
     ]
    },
    {
     "data": {
      "text/plain": [
       "<keras.callbacks.History at 0x138a12b1fd0>"
      ]
     },
     "execution_count": 4,
     "metadata": {},
     "output_type": "execute_result"
    }
   ],
   "source": [
    "from keras.optimizers import SGD, rmsprop\n",
    "from keras.callbacks import LearningRateScheduler\n",
    "import math\n",
    "\n",
    "def step_decay(epoch):\n",
    "    initial_lrate = 0.001\n",
    "    lrate = initial_lrate * math.pow(0.5, math.floor((1+epoch)/5))\n",
    "    lrate = max(lrate,0.00001)\n",
    "    return lrate\n",
    "opt = SGD(lr=0.0, momentum=0.9, decay=0.0)\n",
    "lrate = LearningRateScheduler(step_decay)\n",
    "\n",
    "model.compile(loss='categorical_crossentropy',optimizer=opt, metrics=['accuracy'])\n",
    "model.fit(x_train, y_train,batch_size=400, nb_epoch=25,\n",
    "    validation_data=(x_test, y_test),shuffle=True,callbacks=[lrate])\n"
   ]
  },
  {
   "cell_type": "code",
   "execution_count": 3,
   "metadata": {
    "collapsed": false
   },
   "outputs": [
    {
     "name": "stderr",
     "output_type": "stream",
     "text": [
      "D:\\Users\\Felipe\\Anaconda3\\envs\\tensorflow\\lib\\site-packages\\keras\\models.py:837: UserWarning: The `nb_epoch` argument in `fit` has been renamed `epochs`.\n",
      "  warnings.warn('The `nb_epoch` argument in `fit` '\n"
     ]
    },
    {
     "name": "stdout",
     "output_type": "stream",
     "text": [
      "Train on 50000 samples, validate on 10000 samples\n",
      "Epoch 1/25\n",
      "50000/50000 [==============================] - 41s - loss: 2.2825 - acc: 0.1425 - val_loss: 2.2515 - val_acc: 0.1995\n",
      "Epoch 2/25\n",
      "50000/50000 [==============================] - 37s - loss: 2.2002 - acc: 0.2180 - val_loss: 2.1387 - val_acc: 0.2425\n",
      "Epoch 3/25\n",
      "50000/50000 [==============================] - 37s - loss: 2.0766 - acc: 0.2703 - val_loss: 2.0125 - val_acc: 0.3110\n",
      "Epoch 4/25\n",
      "50000/50000 [==============================] - 37s - loss: 1.9653 - acc: 0.3119 - val_loss: 1.9202 - val_acc: 0.3258\n",
      "Epoch 5/25\n",
      "50000/50000 [==============================] - 37s - loss: 1.9041 - acc: 0.3357 - val_loss: 1.8843 - val_acc: 0.3394\n",
      "Epoch 6/25\n",
      "50000/50000 [==============================] - 37s - loss: 1.8753 - acc: 0.3481 - val_loss: 1.8626 - val_acc: 0.3509\n",
      "Epoch 7/25\n",
      "50000/50000 [==============================] - 37s - loss: 1.8481 - acc: 0.3596 - val_loss: 1.8318 - val_acc: 0.3633\n",
      "Epoch 8/25\n",
      "50000/50000 [==============================] - 37s - loss: 1.8218 - acc: 0.3690 - val_loss: 1.8052 - val_acc: 0.3775\n",
      "Epoch 9/25\n",
      "50000/50000 [==============================] - 37s - loss: 1.7967 - acc: 0.3778 - val_loss: 1.7814 - val_acc: 0.3880\n",
      "Epoch 10/25\n",
      "50000/50000 [==============================] - 40s - loss: 1.7739 - acc: 0.3859 - val_loss: 1.7682 - val_acc: 0.3903\n",
      "Epoch 11/25\n",
      "50000/50000 [==============================] - 37s - loss: 1.7595 - acc: 0.3917 - val_loss: 1.7510 - val_acc: 0.3990\n",
      "Epoch 12/25\n",
      "50000/50000 [==============================] - 40s - loss: 1.7458 - acc: 0.3965 - val_loss: 1.7400 - val_acc: 0.4002\n",
      "Epoch 13/25\n",
      "50000/50000 [==============================] - 39s - loss: 1.7334 - acc: 0.4025 - val_loss: 1.7252 - val_acc: 0.4057\n",
      "Epoch 14/25\n",
      "50000/50000 [==============================] - 37s - loss: 1.7204 - acc: 0.4065 - val_loss: 1.7166 - val_acc: 0.4083\n",
      "Epoch 15/25\n",
      "50000/50000 [==============================] - 40s - loss: 1.7077 - acc: 0.4120 - val_loss: 1.7059 - val_acc: 0.4109\n",
      "Epoch 16/25\n",
      "50000/50000 [==============================] - 42s - loss: 1.7009 - acc: 0.4159 - val_loss: 1.6968 - val_acc: 0.4172\n",
      "Epoch 17/25\n",
      "50000/50000 [==============================] - 37s - loss: 1.6935 - acc: 0.4158 - val_loss: 1.6903 - val_acc: 0.4167\n",
      "Epoch 18/25\n",
      "50000/50000 [==============================] - 37s - loss: 1.6867 - acc: 0.4180 - val_loss: 1.6841 - val_acc: 0.4221\n",
      "Epoch 19/25\n",
      "50000/50000 [==============================] - 40s - loss: 1.6809 - acc: 0.4205 - val_loss: 1.6789 - val_acc: 0.4238\n",
      "Epoch 20/25\n",
      "50000/50000 [==============================] - 40s - loss: 1.6740 - acc: 0.4237 - val_loss: 1.6730 - val_acc: 0.4243\n",
      "Epoch 21/25\n",
      "50000/50000 [==============================] - 40s - loss: 1.6702 - acc: 0.4248 - val_loss: 1.6698 - val_acc: 0.4254\n",
      "Epoch 22/25\n",
      "50000/50000 [==============================] - 37s - loss: 1.6670 - acc: 0.4257 - val_loss: 1.6657 - val_acc: 0.4280\n",
      "Epoch 23/25\n",
      "50000/50000 [==============================] - 37s - loss: 1.6639 - acc: 0.4266 - val_loss: 1.6625 - val_acc: 0.4260\n",
      "Epoch 24/25\n",
      "50000/50000 [==============================] - 37s - loss: 1.6606 - acc: 0.4278 - val_loss: 1.6594 - val_acc: 0.4290\n",
      "Epoch 25/25\n",
      "50000/50000 [==============================] - 37s - loss: 1.6573 - acc: 0.4294 - val_loss: 1.6572 - val_acc: 0.4286\n"
     ]
    }
   ],
   "source": [
    "from keras.optimizers import SGD, rmsprop\n",
    "from keras.callbacks import LearningRateScheduler\n",
    "import math\n",
    "class LossHistory(keras.callbacks.Callback):\n",
    "    def on_train_begin(self, logs={}):\n",
    "        self.losses = []\n",
    "\n",
    "    def on_batch_end(self, batch, logs={}):\n",
    "        self.losses.append([logs.get('acc'), logs.get('acc')])\n",
    "        \n",
    "def step_decay(epoch):\n",
    "    initial_lrate = 0.001\n",
    "    lrate = initial_lrate * math.pow(0.5, math.floor((1+epoch)/5))\n",
    "    lrate = max(lrate,0.00001)\n",
    "    return lrate\n",
    "\n",
    "lrate = LearningRateScheduler(step_decay)\n",
    "opt = SGD(lr=0.0, momentum=0.9, decay=0.0)\n",
    "model.compile(loss='categorical_crossentropy',optimizer=opt, metrics=['accuracy'])\n",
    "history_callback = model.fit(x_train, y_train,batch_size=400, nb_epoch=25, validation_data=(x_test, y_test),shuffle=True,callbacks=[lrate])"
   ]
  },
  {
   "cell_type": "code",
   "execution_count": 14,
   "metadata": {
    "collapsed": false
   },
   "outputs": [
    {
     "name": "stdout",
     "output_type": "stream",
     "text": [
      "[1, 2, 3, 4, 5, 6, 7, 8, 9, 10, 11, 12, 13, 14, 15, 16, 17, 18, 19, 20, 21, 22, 23, 24, 25]\n"
     ]
    },
    {
     "data": {
      "image/png": "[encoded data removed]",
      "text/plain": [
       "<matplotlib.figure.Figure at 0x1a68d6bf630>"
      ]
     },
     "metadata": {},
     "output_type": "display_data"
    }
   ],
   "source": [
    "import matplotlib.pyplot as plt\n",
    "epochs = list(range(1,26))\n",
    "print(epochs)\n",
    "train_accuracy = history_callback.history[\"acc\"]\n",
    "validation_accyracy = history_callback.history[\"val_acc\"]\n",
    "plt.plot(epochs, train_accuracy )\n",
    "plt.plot( epochs, validation_accyracy )\n",
    "plt.legend( [\"training acc\", \"validation acc\"])\n",
    "plt.show()"
   ]
  },
  {
   "cell_type": "markdown",
   "metadata": {},
   "source": [
    "<p>D) Entrene la CNN de\f",
    "nida en (b) utilizando RMSProp durante 25 epochs. Elija la funci\u0013on de p\u0013erdida\n",
    "m\u0013as apropiada para este problema. Construya \f",
    "nalmente un gr\u0013a\f",
    "co que muestre los errores de entrenamiento,\n",
    "validaci\u0013on y pruebas como funci\u0013on del n\u0013umero de \\epochs\".</p>"
   ]
  },
  {
   "cell_type": "code",
   "execution_count": 7,
   "metadata": {
    "collapsed": false,
    "scrolled": true
   },
   "outputs": [
    {
     "name": "stderr",
     "output_type": "stream",
     "text": [
      "D:\\Users\\Felipe\\Anaconda3\\envs\\tensorflow\\lib\\site-packages\\keras\\models.py:837: UserWarning: The `nb_epoch` argument in `fit` has been renamed `epochs`.\n",
      "  warnings.warn('The `nb_epoch` argument in `fit` '\n"
     ]
    },
    {
     "name": "stdout",
     "output_type": "stream",
     "text": [
      "Train on 50000 samples, validate on 10000 samples\n",
      "Epoch 1/25\n",
      "50000/50000 [==============================] - 37s - loss: 1.6327 - acc: 0.4233 - val_loss: 1.3168 - val_acc: 0.5222\n",
      "Epoch 2/25\n",
      "50000/50000 [==============================] - 34s - loss: 1.1432 - acc: 0.5989 - val_loss: 1.0470 - val_acc: 0.6226\n",
      "Epoch 3/25\n",
      "50000/50000 [==============================] - 34s - loss: 0.9487 - acc: 0.6705 - val_loss: 0.9385 - val_acc: 0.6732\n",
      "Epoch 4/25\n",
      "50000/50000 [==============================] - 34s - loss: 0.8138 - acc: 0.7190 - val_loss: 1.0125 - val_acc: 0.6444\n",
      "Epoch 5/25\n",
      "50000/50000 [==============================] - 34s - loss: 0.6875 - acc: 0.7604 - val_loss: 0.9563 - val_acc: 0.6812\n",
      "Epoch 6/25\n",
      "50000/50000 [==============================] - 36s - loss: 0.5697 - acc: 0.8024 - val_loss: 0.9496 - val_acc: 0.6916\n",
      "Epoch 7/25\n",
      "50000/50000 [==============================] - 34s - loss: 0.4570 - acc: 0.8428 - val_loss: 0.9229 - val_acc: 0.7054\n",
      "Epoch 8/25\n",
      "50000/50000 [==============================] - 34s - loss: 0.3575 - acc: 0.8785 - val_loss: 0.9306 - val_acc: 0.7190\n",
      "Epoch 9/25\n",
      "50000/50000 [==============================] - 34s - loss: 0.2653 - acc: 0.9112 - val_loss: 0.9627 - val_acc: 0.7261\n",
      "Epoch 10/25\n",
      "50000/50000 [==============================] - 34s - loss: 0.1868 - acc: 0.9376 - val_loss: 1.1891 - val_acc: 0.7091\n",
      "Epoch 11/25\n",
      "50000/50000 [==============================] - 34s - loss: 0.1358 - acc: 0.9566 - val_loss: 1.2754 - val_acc: 0.7182\n",
      "Epoch 12/25\n",
      "50000/50000 [==============================] - 34s - loss: 0.0977 - acc: 0.9684 - val_loss: 1.5135 - val_acc: 0.6968\n",
      "Epoch 13/25\n",
      "50000/50000 [==============================] - 34s - loss: 0.0729 - acc: 0.9762 - val_loss: 1.9575 - val_acc: 0.6700\n",
      "Epoch 14/25\n",
      "50000/50000 [==============================] - 34s - loss: 0.0619 - acc: 0.9815 - val_loss: 1.5271 - val_acc: 0.7198\n",
      "Epoch 15/25\n",
      "50000/50000 [==============================] - 34s - loss: 0.0490 - acc: 0.9847 - val_loss: 1.8025 - val_acc: 0.6917\n",
      "Epoch 16/25\n",
      "50000/50000 [==============================] - 34s - loss: 0.0428 - acc: 0.9863 - val_loss: 1.8429 - val_acc: 0.7014\n",
      "Epoch 17/25\n",
      "50000/50000 [==============================] - 34s - loss: 0.0385 - acc: 0.9880 - val_loss: 1.7323 - val_acc: 0.7340\n",
      "Epoch 18/25\n",
      "50000/50000 [==============================] - 36s - loss: 0.0349 - acc: 0.9884 - val_loss: 1.9007 - val_acc: 0.7153\n",
      "Epoch 19/25\n",
      "50000/50000 [==============================] - 35s - loss: 0.0303 - acc: 0.9905 - val_loss: 2.0489 - val_acc: 0.7125\n",
      "Epoch 20/25\n",
      "50000/50000 [==============================] - 35s - loss: 0.0311 - acc: 0.9898 - val_loss: 2.0067 - val_acc: 0.7233\n",
      "Epoch 21/25\n",
      "50000/50000 [==============================] - 34s - loss: 0.0308 - acc: 0.9903 - val_loss: 2.0649 - val_acc: 0.7185\n",
      "Epoch 22/25\n",
      "50000/50000 [==============================] - 34s - loss: 0.0286 - acc: 0.9906 - val_loss: 2.0349 - val_acc: 0.7173\n",
      "Epoch 23/25\n",
      "50000/50000 [==============================] - 37s - loss: 0.0271 - acc: 0.9914 - val_loss: 2.0826 - val_acc: 0.7299\n",
      "Epoch 24/25\n",
      "50000/50000 [==============================] - 34s - loss: 0.0225 - acc: 0.9929 - val_loss: 2.2095 - val_acc: 0.7145\n",
      "Epoch 25/25\n",
      "50000/50000 [==============================] - 34s - loss: 0.0242 - acc: 0.9920 - val_loss: 2.1419 - val_acc: 0.7232\n"
     ]
    }
   ],
   "source": [
    "from keras.optimizers import SGD, rmsprop\n",
    "from keras.callbacks import LearningRateScheduler\n",
    "import math\n",
    "from keras.optimizers import SGD, rmsprop\n",
    "opt = rmsprop(lr=0.001, decay=1e-6)\n",
    "model.compile(loss='categorical_crossentropy',optimizer=opt, metrics=['accuracy'])\n",
    "history_callback = model.fit(x_train, y_train,batch_size=150,nb_epoch=25,\n",
    "validation_data=(x_test, y_test),shuffle=True)\n",
    "\n"
   ]
  },
  {
   "cell_type": "markdown",
   "metadata": {
    "collapsed": false
   },
   "source": [
    "import matplotlib.pyplot as plt\n",
    "epochs = list(range(1,26))\n",
    "print(epochs)\n",
    "train_accuracy = history_callback.history[\"acc\"]\n",
    "validation_accyracy = history_callback.history[\"val_acc\"]\n",
    "plt.plot(epochs, train_accuracy )\n",
    "plt.plot( epochs, validation_accyracy )\n",
    "plt.legend( [\"training acc\", \"validation acc\"])\n",
    "plt.show()"
   ]
  },
  {
   "cell_type": "markdown",
   "metadata": {},
   "source": [
    "<p>Se aprecia que el gráfico obtenido entrega errores de validación muy altos, mientras que el error de entrenamiento es casi cero<p>"
   ]
  },
  {
   "cell_type": "markdown",
   "metadata": {},
   "source": [
    "<p>E) Se ha sugerido que la pr\u0013actica bastante habitual de continuar una capa convolucional con una capa de\n",
    "pooling puede generar una reducci\u0013on prematura de las dimensiones del patr\u0013on de entrada. Experimente\n",
    "con una arquitectura del tipo C \u0002C \u0002P \u0002C \u0002C \u0002P \u0002F \u0002F. Use 64 \f",
    "ltros para las primeras 2 capas\n",
    "convolucionales y 128 para las \u0013ultimas dos. Reflexione sobre qu\u0013e le parece m\u0013as sensato: >mantener el\n",
    "tama~no de los \f",
    "ltros usados anteriormente? o >usar \f",
    "ltros m\u0013as grandes en la segunda capa convolucional\n",
    "y m\u0013as peque~nos en la primera? o >usar \f",
    "ltros m\u0013as peque~nos en la segunda capa convolucional y m\u0013as\n",
    "grandes en la primera? Hint: con esta nueva arquitectura debiese superar el 70% de accuracy (de\n",
    "validaci\u0013on/test) antes de 5 epochs, pero la arquitectura es m\u0013as sensible a over\f",
    "tting por lo que podr\u0013\u0010a\n",
    "ser conveniente agregar un regularizador. Como resultado \f",
    "nal de esta actividad gr\u0013a\f",
    "cque los errores\n",
    "de entrenamiento, validaci\u0013on y pruebas como funci\u0013on del n\u0013umero de \\epochs\" (\f",
    "jando el m\u0013aximo en\n",
    "un n\u0013umero razonable como T = 25).</p>"
   ]
  },
  {
   "cell_type": "code",
   "execution_count": 4,
   "metadata": {
    "collapsed": false,
    "scrolled": true
   },
   "outputs": [
    {
     "name": "stdout",
     "output_type": "stream",
     "text": [
      "_________________________________________________________________\n",
      "Layer (type)                 Output Shape              Param #   \n",
      "=================================================================\n",
      "conv2d_3 (Conv2D)            (None, 64, 32, 32)        1792      \n",
      "_________________________________________________________________\n",
      "activation_5 (Activation)    (None, 64, 32, 32)        0         \n",
      "_________________________________________________________________\n",
      "conv2d_4 (Conv2D)            (None, 64, 32, 32)        36928     \n",
      "_________________________________________________________________\n",
      "activation_6 (Activation)    (None, 64, 32, 32)        0         \n",
      "_________________________________________________________________\n",
      "max_pooling2d_3 (MaxPooling2 (None, 64, 16, 16)        0         \n",
      "_________________________________________________________________\n",
      "dropout_1 (Dropout)          (None, 64, 16, 16)        0         \n",
      "_________________________________________________________________\n",
      "conv2d_5 (Conv2D)            (None, 128, 16, 16)       73856     \n",
      "_________________________________________________________________\n",
      "activation_7 (Activation)    (None, 128, 16, 16)       0         \n",
      "_________________________________________________________________\n",
      "max_pooling2d_4 (MaxPooling2 (None, 128, 8, 8)         0         \n",
      "_________________________________________________________________\n",
      "conv2d_6 (Conv2D)            (None, 128, 8, 8)         147584    \n",
      "_________________________________________________________________\n",
      "activation_8 (Activation)    (None, 128, 8, 8)         0         \n",
      "_________________________________________________________________\n",
      "max_pooling2d_5 (MaxPooling2 (None, 128, 4, 4)         0         \n",
      "_________________________________________________________________\n",
      "flatten_2 (Flatten)          (None, 2048)              0         \n",
      "_________________________________________________________________\n",
      "dense_3 (Dense)              (None, 512)               1049088   \n",
      "_________________________________________________________________\n",
      "activation_9 (Activation)    (None, 512)               0         \n",
      "_________________________________________________________________\n",
      "dense_4 (Dense)              (None, 10)                5130      \n",
      "_________________________________________________________________\n",
      "activation_10 (Activation)   (None, 10)                0         \n",
      "=================================================================\n",
      "Total params: 1,314,378\n",
      "Trainable params: 1,314,378\n",
      "Non-trainable params: 0\n",
      "_________________________________________________________________\n"
     ]
    },
    {
     "name": "stderr",
     "output_type": "stream",
     "text": [
      "D:\\Users\\Felipe\\Anaconda3\\envs\\tensorflow\\lib\\site-packages\\ipykernel\\__main__.py:2: UserWarning: Update your `Conv2D` call to the Keras 2 API: `Conv2D(64, (3, 3), padding=\"same\", input_shape=(3, 32, 32...)`\n",
      "  from ipykernel import kernelapp as app\n",
      "D:\\Users\\Felipe\\Anaconda3\\envs\\tensorflow\\lib\\site-packages\\ipykernel\\__main__.py:4: UserWarning: Update your `Conv2D` call to the Keras 2 API: `Conv2D(64, (3, 3), padding=\"same\")`\n",
      "D:\\Users\\Felipe\\Anaconda3\\envs\\tensorflow\\lib\\site-packages\\ipykernel\\__main__.py:8: UserWarning: Update your `Conv2D` call to the Keras 2 API: `Conv2D(128, (3, 3), padding=\"same\")`\n",
      "D:\\Users\\Felipe\\Anaconda3\\envs\\tensorflow\\lib\\site-packages\\ipykernel\\__main__.py:10: UserWarning: Update your `MaxPooling2D` call to the Keras 2 API: `MaxPooling2D(pool_size=(2, 2), data_format=\"channels_first\")`\n",
      "D:\\Users\\Felipe\\Anaconda3\\envs\\tensorflow\\lib\\site-packages\\ipykernel\\__main__.py:11: UserWarning: Update your `Conv2D` call to the Keras 2 API: `Conv2D(128, (3, 3), padding=\"same\")`\n"
     ]
    }
   ],
   "source": [
    "model = Sequential()\n",
    "model.add(Convolution2D(64, 3, 3, border_mode='same', input_shape=(3,32,32)))\n",
    "model.add(Activation('relu'))\n",
    "model.add(Convolution2D(64, 3, 3, border_mode='same'))\n",
    "model.add(Activation('relu'))\n",
    "model.add(MaxPooling2D(pool_size=(2, 2)))\n",
    "model.add(Dropout(0.25))\n",
    "model.add(Convolution2D(128, 3, 3, border_mode='same'))\n",
    "model.add(Activation('relu'))\n",
    "model.add(MaxPooling2D(pool_size=(2, 2), dim_ordering=\"th\"))\n",
    "model.add(Convolution2D(128, 3, 3, border_mode='same'))\n",
    "model.add(Activation('relu'))\n",
    "model.add(MaxPooling2D(pool_size=(2, 2)))\n",
    "model.add(Flatten())\n",
    "model.add(Dense(512))\n",
    "model.add(Activation('relu'))\n",
    "model.add(Dense(num_classes))\n",
    "model.add(Activation('softmax'))\n",
    "model.summary()"
   ]
  },
  {
   "cell_type": "code",
   "execution_count": 5,
   "metadata": {
    "collapsed": false,
    "scrolled": true
   },
   "outputs": [
    {
     "name": "stderr",
     "output_type": "stream",
     "text": [
      "D:\\Users\\Felipe\\Anaconda3\\envs\\tensorflow\\lib\\site-packages\\keras\\models.py:837: UserWarning: The `nb_epoch` argument in `fit` has been renamed `epochs`.\n",
      "  warnings.warn('The `nb_epoch` argument in `fit` '\n"
     ]
    },
    {
     "name": "stdout",
     "output_type": "stream",
     "text": [
      "Train on 50000 samples, validate on 10000 samples\n",
      "Epoch 1/25\n",
      "50000/50000 [==============================] - 78s - loss: 1.7208 - acc: 0.3797 - val_loss: 1.4518 - val_acc: 0.4950\n",
      "Epoch 2/25\n",
      "50000/50000 [==============================] - 75s - loss: 1.1569 - acc: 0.5904 - val_loss: 1.0835 - val_acc: 0.6171\n",
      "Epoch 3/25\n",
      "50000/50000 [==============================] - 75s - loss: 0.8905 - acc: 0.6881 - val_loss: 0.9400 - val_acc: 0.6744\n",
      "Epoch 4/25\n",
      "50000/50000 [==============================] - 78s - loss: 0.7242 - acc: 0.7468 - val_loss: 0.8419 - val_acc: 0.7193\n",
      "Epoch 5/25\n",
      "50000/50000 [==============================] - 78s - loss: 0.5976 - acc: 0.7916 - val_loss: 0.8540 - val_acc: 0.7205\n",
      "Epoch 6/25\n",
      "50000/50000 [==============================] - 78s - loss: 0.4886 - acc: 0.8307 - val_loss: 0.8197 - val_acc: 0.7436\n",
      "Epoch 7/25\n",
      "50000/50000 [==============================] - 75s - loss: 0.3863 - acc: 0.8652 - val_loss: 1.3841 - val_acc: 0.6633\n",
      "Epoch 8/25\n",
      "50000/50000 [==============================] - 80s - loss: 0.2985 - acc: 0.8954 - val_loss: 0.9636 - val_acc: 0.7393\n",
      "Epoch 9/25\n",
      "50000/50000 [==============================] - 75s - loss: 0.2343 - acc: 0.9182 - val_loss: 1.0093 - val_acc: 0.7477\n",
      "Epoch 10/25\n",
      "50000/50000 [==============================] - 75s - loss: 0.1859 - acc: 0.9349 - val_loss: 0.9676 - val_acc: 0.7557\n",
      "Epoch 11/25\n",
      "50000/50000 [==============================] - 75s - loss: 0.1486 - acc: 0.9500 - val_loss: 1.0375 - val_acc: 0.7798\n",
      "Epoch 12/25\n",
      "50000/50000 [==============================] - 75s - loss: 0.1289 - acc: 0.9557 - val_loss: 1.1656 - val_acc: 0.7721\n",
      "Epoch 13/25\n",
      "50000/50000 [==============================] - 77s - loss: 0.1115 - acc: 0.9616 - val_loss: 1.2561 - val_acc: 0.7624\n",
      "Epoch 14/25\n",
      "50000/50000 [==============================] - 75s - loss: 0.0982 - acc: 0.9662 - val_loss: 1.1745 - val_acc: 0.7815\n",
      "Epoch 15/25\n",
      "50000/50000 [==============================] - 75s - loss: 0.0970 - acc: 0.9681 - val_loss: 1.3919 - val_acc: 0.7591\n",
      "Epoch 16/25\n",
      "50000/50000 [==============================] - 78s - loss: 0.0883 - acc: 0.9713 - val_loss: 1.4214 - val_acc: 0.7745\n",
      "Epoch 17/25\n",
      "50000/50000 [==============================] - 75s - loss: 0.0867 - acc: 0.9717 - val_loss: 1.4147 - val_acc: 0.7728\n",
      "Epoch 18/25\n",
      "50000/50000 [==============================] - 75s - loss: 0.0853 - acc: 0.9732 - val_loss: 2.0204 - val_acc: 0.7416\n",
      "Epoch 19/25\n",
      "50000/50000 [==============================] - 75s - loss: 0.0798 - acc: 0.9756 - val_loss: 1.6519 - val_acc: 0.7133\n",
      "Epoch 20/25\n",
      "50000/50000 [==============================] - 75s - loss: 0.0831 - acc: 0.9741 - val_loss: 1.4994 - val_acc: 0.7771\n",
      "Epoch 21/25\n",
      "50000/50000 [==============================] - 75s - loss: 0.0754 - acc: 0.9769 - val_loss: 1.8949 - val_acc: 0.7627\n",
      "Epoch 22/25\n",
      "50000/50000 [==============================] - 75s - loss: 0.0769 - acc: 0.9754 - val_loss: 1.6668 - val_acc: 0.7659\n",
      "Epoch 23/25\n",
      "50000/50000 [==============================] - 77s - loss: 0.0746 - acc: 0.9775 - val_loss: 1.8847 - val_acc: 0.7549\n",
      "Epoch 24/25\n",
      "50000/50000 [==============================] - 75s - loss: 0.0734 - acc: 0.9783 - val_loss: 1.6542 - val_acc: 0.7833\n",
      "Epoch 25/25\n",
      "50000/50000 [==============================] - 75s - loss: 0.0722 - acc: 0.9790 - val_loss: 1.7904 - val_acc: 0.7379\n"
     ]
    }
   ],
   "source": [
    "from keras.optimizers import SGD, rmsprop\n",
    "from keras.callbacks import LearningRateScheduler\n",
    "import math\n",
    "from keras.optimizers import SGD, rmsprop\n",
    "opt = rmsprop(lr=0.001, decay=1e-6)\n",
    "model.compile(loss='categorical_crossentropy',optimizer=opt, metrics=['accuracy'])\n",
    "history_callback = model.fit(x_train, y_train,batch_size=150,nb_epoch=25,\n",
    "validation_data=(x_test, y_test),shuffle=True)"
   ]
  },
  {
   "cell_type": "code",
   "execution_count": 4,
   "metadata": {
    "collapsed": false,
    "scrolled": true
   },
   "outputs": [
    {
     "name": "stderr",
     "output_type": "stream",
     "text": [
      "D:\\Users\\Felipe\\Anaconda3\\envs\\tensorflow\\lib\\site-packages\\ipykernel\\__main__.py:2: UserWarning: Update your `Conv2D` call to the Keras 2 API: `Conv2D(64, (3, 3), padding=\"same\", input_shape=(3, 32, 32...)`\n",
      "  from ipykernel import kernelapp as app\n",
      "D:\\Users\\Felipe\\Anaconda3\\envs\\tensorflow\\lib\\site-packages\\ipykernel\\__main__.py:4: UserWarning: Update your `Conv2D` call to the Keras 2 API: `Conv2D(64, (3, 3), padding=\"same\")`\n",
      "D:\\Users\\Felipe\\Anaconda3\\envs\\tensorflow\\lib\\site-packages\\ipykernel\\__main__.py:8: UserWarning: Update your `Conv2D` call to the Keras 2 API: `Conv2D(128, (3, 3), padding=\"same\")`\n",
      "D:\\Users\\Felipe\\Anaconda3\\envs\\tensorflow\\lib\\site-packages\\ipykernel\\__main__.py:10: UserWarning: Update your `MaxPooling2D` call to the Keras 2 API: `MaxPooling2D(pool_size=(2, 2), data_format=\"channels_first\")`\n",
      "D:\\Users\\Felipe\\Anaconda3\\envs\\tensorflow\\lib\\site-packages\\ipykernel\\__main__.py:11: UserWarning: Update your `Conv2D` call to the Keras 2 API: `Conv2D(128, (3, 3), padding=\"same\")`\n"
     ]
    },
    {
     "name": "stdout",
     "output_type": "stream",
     "text": [
      "_________________________________________________________________\n",
      "Layer (type)                 Output Shape              Param #   \n",
      "=================================================================\n",
      "conv2d_7 (Conv2D)            (None, 64, 32, 32)        1792      \n",
      "_________________________________________________________________\n",
      "activation_11 (Activation)   (None, 64, 32, 32)        0         \n",
      "_________________________________________________________________\n",
      "conv2d_8 (Conv2D)            (None, 64, 32, 32)        36928     \n",
      "_________________________________________________________________\n",
      "activation_12 (Activation)   (None, 64, 32, 32)        0         \n",
      "_________________________________________________________________\n",
      "max_pooling2d_6 (MaxPooling2 (None, 64, 16, 16)        0         \n",
      "_________________________________________________________________\n",
      "dropout_2 (Dropout)          (None, 64, 16, 16)        0         \n",
      "_________________________________________________________________\n",
      "conv2d_9 (Conv2D)            (None, 128, 16, 16)       73856     \n",
      "_________________________________________________________________\n",
      "activation_13 (Activation)   (None, 128, 16, 16)       0         \n",
      "_________________________________________________________________\n",
      "max_pooling2d_7 (MaxPooling2 (None, 128, 8, 8)         0         \n",
      "_________________________________________________________________\n",
      "conv2d_10 (Conv2D)           (None, 128, 8, 8)         147584    \n",
      "_________________________________________________________________\n",
      "activation_14 (Activation)   (None, 128, 8, 8)         0         \n",
      "_________________________________________________________________\n",
      "max_pooling2d_8 (MaxPooling2 (None, 128, 4, 4)         0         \n",
      "_________________________________________________________________\n",
      "flatten_3 (Flatten)          (None, 2048)              0         \n",
      "_________________________________________________________________\n",
      "dense_5 (Dense)              (None, 512)               1049088   \n",
      "_________________________________________________________________\n",
      "activation_15 (Activation)   (None, 512)               0         \n",
      "_________________________________________________________________\n",
      "dense_6 (Dense)              (None, 10)                5130      \n",
      "_________________________________________________________________\n",
      "activation_16 (Activation)   (None, 10)                0         \n",
      "=================================================================\n",
      "Total params: 1,314,378\n",
      "Trainable params: 1,314,378\n",
      "Non-trainable params: 0\n",
      "_________________________________________________________________\n"
     ]
    },
    {
     "name": "stderr",
     "output_type": "stream",
     "text": [
      "D:\\Users\\Felipe\\Anaconda3\\envs\\tensorflow\\lib\\site-packages\\keras\\models.py:837: UserWarning: The `nb_epoch` argument in `fit` has been renamed `epochs`.\n",
      "  warnings.warn('The `nb_epoch` argument in `fit` '\n"
     ]
    },
    {
     "name": "stdout",
     "output_type": "stream",
     "text": [
      "Train on 50000 samples, validate on 10000 samples\n",
      "Epoch 1/8\n",
      "50000/50000 [==============================] - 79s - loss: 1.7475 - acc: 0.3734 - val_loss: 1.2778 - val_acc: 0.5405\n",
      "Epoch 2/8\n",
      "50000/50000 [==============================] - 75s - loss: 1.1539 - acc: 0.5938 - val_loss: 1.0769 - val_acc: 0.6114\n",
      "Epoch 3/8\n",
      "50000/50000 [==============================] - 78s - loss: 0.8923 - acc: 0.6894 - val_loss: 0.8839 - val_acc: 0.6951\n",
      "Epoch 4/8\n",
      "50000/50000 [==============================] - 75s - loss: 0.7204 - acc: 0.7486 - val_loss: 1.0588 - val_acc: 0.6525\n",
      "Epoch 5/8\n",
      "50000/50000 [==============================] - 81s - loss: 0.5887 - acc: 0.7963 - val_loss: 0.7971 - val_acc: 0.7378\n",
      "Epoch 6/8\n",
      "50000/50000 [==============================] - 77s - loss: 0.4803 - acc: 0.8317 - val_loss: 0.7975 - val_acc: 0.7274\n",
      "Epoch 7/8\n",
      "50000/50000 [==============================] - 75s - loss: 0.3888 - acc: 0.8627 - val_loss: 0.9349 - val_acc: 0.7428\n",
      "Epoch 8/8\n",
      "50000/50000 [==============================] - 80s - loss: 0.3013 - acc: 0.8927 - val_loss: 0.9288 - val_acc: 0.7539\n"
     ]
    }
   ],
   "source": [
    "model = Sequential()\n",
    "model.add(Convolution2D(64, 3, 3, border_mode='same', input_shape=(3,32,32)))\n",
    "model.add(Activation('relu'))\n",
    "model.add(Convolution2D(64, 3, 3, border_mode='same'))\n",
    "model.add(Activation('relu'))\n",
    "model.add(MaxPooling2D(pool_size=(2, 2)))\n",
    "model.add(Dropout(0.25))\n",
    "model.add(Convolution2D(128, 3, 3, border_mode='same'))\n",
    "model.add(Activation('relu'))\n",
    "model.add(MaxPooling2D(pool_size=(2, 2), dim_ordering=\"th\"))\n",
    "model.add(Convolution2D(128, 3, 3, border_mode='same'))\n",
    "model.add(Activation('relu'))\n",
    "model.add(MaxPooling2D(pool_size=(2, 2)))\n",
    "model.add(Flatten())\n",
    "model.add(Dense(512))\n",
    "model.add(Activation('relu'))\n",
    "model.add(Dense(num_classes))\n",
    "model.add(Activation('softmax'))\n",
    "model.summary()\n",
    "\n",
    "from keras.optimizers import SGD, rmsprop\n",
    "from keras.callbacks import LearningRateScheduler\n",
    "import math\n",
    "from keras.optimizers import SGD, rmsprop\n",
    "opt = rmsprop(lr=0.001, decay=1e-6)\n",
    "model.compile(loss='categorical_crossentropy',optimizer=opt, metrics=['accuracy'])\n",
    "history_callback = model.fit(x_train, y_train,batch_size=150,nb_epoch=8,\n",
    "validation_data=(x_test, y_test),shuffle=True)"
   ]
  },
  {
   "cell_type": "code",
   "execution_count": 3,
   "metadata": {
    "collapsed": false,
    "scrolled": true
   },
   "outputs": [
    {
     "name": "stderr",
     "output_type": "stream",
     "text": [
      "D:\\Users\\Felipe\\Anaconda3\\envs\\tensorflow\\lib\\site-packages\\ipykernel\\__main__.py:2: UserWarning: Update your `Conv2D` call to the Keras 2 API: `Conv2D(64, (3, 3), padding=\"same\", input_shape=(3, 32, 32...)`\n",
      "  from ipykernel import kernelapp as app\n",
      "D:\\Users\\Felipe\\Anaconda3\\envs\\tensorflow\\lib\\site-packages\\ipykernel\\__main__.py:4: UserWarning: Update your `Conv2D` call to the Keras 2 API: `Conv2D(64, (3, 3), padding=\"same\")`\n",
      "D:\\Users\\Felipe\\Anaconda3\\envs\\tensorflow\\lib\\site-packages\\ipykernel\\__main__.py:8: UserWarning: Update your `Conv2D` call to the Keras 2 API: `Conv2D(128, (20, 20), padding=\"same\")`\n",
      "D:\\Users\\Felipe\\Anaconda3\\envs\\tensorflow\\lib\\site-packages\\ipykernel\\__main__.py:10: UserWarning: Update your `MaxPooling2D` call to the Keras 2 API: `MaxPooling2D(data_format=\"channels_first\", pool_size=(2, 2))`\n",
      "D:\\Users\\Felipe\\Anaconda3\\envs\\tensorflow\\lib\\site-packages\\ipykernel\\__main__.py:11: UserWarning: Update your `Conv2D` call to the Keras 2 API: `Conv2D(128, (20, 20), padding=\"same\")`\n"
     ]
    },
    {
     "name": "stdout",
     "output_type": "stream",
     "text": [
      "_________________________________________________________________\n",
      "Layer (type)                 Output Shape              Param #   \n",
      "=================================================================\n",
      "conv2d_3 (Conv2D)            (None, 64, 32, 32)        1792      \n",
      "_________________________________________________________________\n",
      "activation_5 (Activation)    (None, 64, 32, 32)        0         \n",
      "_________________________________________________________________\n",
      "conv2d_4 (Conv2D)            (None, 64, 32, 32)        36928     \n",
      "_________________________________________________________________\n",
      "activation_6 (Activation)    (None, 64, 32, 32)        0         \n",
      "_________________________________________________________________\n",
      "max_pooling2d_3 (MaxPooling2 (None, 64, 16, 16)        0         \n",
      "_________________________________________________________________\n",
      "dropout_1 (Dropout)          (None, 64, 16, 16)        0         \n",
      "_________________________________________________________________\n",
      "conv2d_5 (Conv2D)            (None, 128, 16, 16)       3276928   \n",
      "_________________________________________________________________\n",
      "activation_7 (Activation)    (None, 128, 16, 16)       0         \n",
      "_________________________________________________________________\n",
      "max_pooling2d_4 (MaxPooling2 (None, 128, 8, 8)         0         \n",
      "_________________________________________________________________\n",
      "conv2d_6 (Conv2D)            (None, 128, 8, 8)         6553728   \n",
      "_________________________________________________________________\n",
      "activation_8 (Activation)    (None, 128, 8, 8)         0         \n",
      "_________________________________________________________________\n",
      "max_pooling2d_5 (MaxPooling2 (None, 128, 4, 4)         0         \n",
      "_________________________________________________________________\n",
      "flatten_2 (Flatten)          (None, 2048)              0         \n",
      "_________________________________________________________________\n",
      "dense_3 (Dense)              (None, 512)               1049088   \n",
      "_________________________________________________________________\n",
      "activation_9 (Activation)    (None, 512)               0         \n",
      "_________________________________________________________________\n",
      "dense_4 (Dense)              (None, 10)                5130      \n",
      "_________________________________________________________________\n",
      "activation_10 (Activation)   (None, 10)                0         "
     ]
    },
    {
     "name": "stderr",
     "output_type": "stream",
     "text": [
      "D:\\Users\\Felipe\\Anaconda3\\envs\\tensorflow\\lib\\site-packages\\keras\\models.py:837: UserWarning: The `nb_epoch` argument in `fit` has been renamed `epochs`.\n",
      "  warnings.warn('The `nb_epoch` argument in `fit` '\n"
     ]
    },
    {
     "name": "stdout",
     "output_type": "stream",
     "text": [
      "\n",
      "=================================================================\n",
      "Total params: 10,923,594\n",
      "Trainable params: 10,923,594\n",
      "Non-trainable params: 0\n",
      "_________________________________________________________________\n",
      "Train on 50000 samples, validate on 10000 samples\n",
      "Epoch 1/8\n",
      "50000/50000 [==============================] - 217s - loss: 2.1183 - acc: 0.2838 - val_loss: 2.1769 - val_acc: 0.3152\n",
      "Epoch 2/8\n",
      "50000/50000 [==============================] - 225s - loss: 1.2290 - acc: 0.5665 - val_loss: 1.0832 - val_acc: 0.6286\n",
      "Epoch 3/8\n",
      "50000/50000 [==============================] - 204s - loss: 0.9111 - acc: 0.6817 - val_loss: 1.1176 - val_acc: 0.6012\n",
      "Epoch 4/8\n",
      "50000/50000 [==============================] - 220s - loss: 0.7114 - acc: 0.7539 - val_loss: 1.1437 - val_acc: 0.6899\n",
      "Epoch 5/8\n",
      "50000/50000 [==============================] - 226s - loss: 0.5698 - acc: 0.8053 - val_loss: 0.8045 - val_acc: 0.7419\n",
      "Epoch 6/8\n",
      "50000/50000 [==============================] - 215s - loss: 0.4345 - acc: 0.8507 - val_loss: 0.9317 - val_acc: 0.7281\n",
      "Epoch 7/8\n",
      "50000/50000 [==============================] - 266s - loss: 0.3330 - acc: 0.8858 - val_loss: 0.9931 - val_acc: 0.7428\n",
      "Epoch 8/8\n",
      "50000/50000 [==============================] - 218s - loss: 0.2659 - acc: 0.9122 - val_loss: 1.0743 - val_acc: 0.7348\n"
     ]
    }
   ],
   "source": [
    "model = Sequential()\n",
    "model.add(Convolution2D(64, 3, 3, border_mode='same', input_shape=(3,32,32)))\n",
    "model.add(Activation('relu'))\n",
    "model.add(Convolution2D(64, 3, 3, border_mode='same'))\n",
    "model.add(Activation('relu'))\n",
    "model.add(MaxPooling2D(pool_size=(2, 2)))\n",
    "model.add(Dropout(0.25))\n",
    "model.add(Convolution2D(128, 20, 20, border_mode='same'))\n",
    "model.add(Activation('relu'))\n",
    "model.add(MaxPooling2D(pool_size=(2, 2), dim_ordering=\"th\"))\n",
    "model.add(Convolution2D(128, 20, 20, border_mode='same'))\n",
    "model.add(Activation('relu'))\n",
    "model.add(MaxPooling2D(pool_size=(2, 2)))\n",
    "model.add(Flatten())\n",
    "model.add(Dense(512))\n",
    "model.add(Activation('relu'))\n",
    "model.add(Dense(num_classes))\n",
    "model.add(Activation('softmax'))\n",
    "model.summary()\n",
    "\n",
    "from keras.optimizers import SGD, rmsprop\n",
    "from keras.callbacks import LearningRateScheduler\n",
    "import math\n",
    "from keras.optimizers import SGD, rmsprop\n",
    "opt = rmsprop(lr=0.001, decay=1e-6)\n",
    "model.compile(loss='categorical_crossentropy',optimizer=opt, metrics=['accuracy'])\n",
    "history_callback = model.fit(x_train, y_train,batch_size=150,nb_epoch=8,\n",
    "validation_data=(x_test, y_test),shuffle=True)"
   ]
  },
  {
   "cell_type": "code",
   "execution_count": 3,
   "metadata": {
    "collapsed": false,
    "scrolled": true
   },
   "outputs": [
    {
     "name": "stderr",
     "output_type": "stream",
     "text": [
      "D:\\Users\\Felipe\\Anaconda3\\envs\\tensorflow\\lib\\site-packages\\ipykernel\\__main__.py:2: UserWarning: Update your `Conv2D` call to the Keras 2 API: `Conv2D(64, (20, 20), padding=\"same\", input_shape=(3, 32, 32...)`\n",
      "  from ipykernel import kernelapp as app\n",
      "D:\\Users\\Felipe\\Anaconda3\\envs\\tensorflow\\lib\\site-packages\\ipykernel\\__main__.py:4: UserWarning: Update your `Conv2D` call to the Keras 2 API: `Conv2D(64, (20, 20), padding=\"same\")`\n",
      "D:\\Users\\Felipe\\Anaconda3\\envs\\tensorflow\\lib\\site-packages\\ipykernel\\__main__.py:8: UserWarning: Update your `Conv2D` call to the Keras 2 API: `Conv2D(128, (3, 3), padding=\"same\")`\n",
      "D:\\Users\\Felipe\\Anaconda3\\envs\\tensorflow\\lib\\site-packages\\ipykernel\\__main__.py:10: UserWarning: Update your `MaxPooling2D` call to the Keras 2 API: `MaxPooling2D(pool_size=(2, 2), data_format=\"channels_first\")`\n",
      "D:\\Users\\Felipe\\Anaconda3\\envs\\tensorflow\\lib\\site-packages\\ipykernel\\__main__.py:11: UserWarning: Update your `Conv2D` call to the Keras 2 API: `Conv2D(128, (3, 3), padding=\"same\")`\n"
     ]
    },
    {
     "name": "stdout",
     "output_type": "stream",
     "text": [
      "_________________________________________________________________\n",
      "Layer (type)                 Output Shape              Param #   \n",
      "=================================================================\n",
      "conv2d_3 (Conv2D)            (None, 64, 32, 32)        76864     \n",
      "_________________________________________________________________\n",
      "activation_5 (Activation)    (None, 64, 32, 32)        0         \n",
      "_________________________________________________________________\n",
      "conv2d_4 (Conv2D)            (None, 64, 32, 32)        1638464   \n",
      "_________________________________________________________________\n",
      "activation_6 (Activation)    (None, 64, 32, 32)        0         \n",
      "_________________________________________________________________\n",
      "max_pooling2d_3 (MaxPooling2 (None, 64, 16, 16)        0         \n",
      "_________________________________________________________________\n",
      "dropout_1 (Dropout)          (None, 64, 16, 16)        0         \n",
      "_________________________________________________________________\n",
      "conv2d_5 (Conv2D)            (None, 128, 16, 16)       73856     \n",
      "_________________________________________________________________\n",
      "activation_7 (Activation)    (None, 128, 16, 16)       0         \n",
      "_________________________________________________________________\n",
      "max_pooling2d_4 (MaxPooling2 (None, 128, 8, 8)         0         \n",
      "_________________________________________________________________\n",
      "conv2d_6 (Conv2D)            (None, 128, 8, 8)         147584    \n",
      "_________________________________________________________________\n",
      "activation_8 (Activation)    (None, 128, 8, 8)         0         \n",
      "_________________________________________________________________\n",
      "max_pooling2d_5 (MaxPooling2 (None, 128, 4, 4)         0         \n",
      "_________________________________________________________________\n",
      "flatten_2 (Flatten)          (None, 2048)              0         \n",
      "_________________________________________________________________\n",
      "dense_3 (Dense)              (None, 512)               1049088   \n",
      "_________________________________________________________________\n",
      "activation_9 (Activation)    (None, 512)               0         \n",
      "_________________________________________________________________\n",
      "dense_4 (Dense)              (None, 10)                5130      \n",
      "_________________________________________________________________\n",
      "activation_10 (Activation)   (None, 10)                0         \n",
      "=================================================================\n",
      "Total params: 2,990,986\n",
      "Trainable params: 2,990,986\n",
      "Non-trainable params: 0\n",
      "_________________________________________________________________\n"
     ]
    },
    {
     "name": "stderr",
     "output_type": "stream",
     "text": [
      "D:\\Users\\Felipe\\Anaconda3\\envs\\tensorflow\\lib\\site-packages\\keras\\models.py:837: UserWarning: The `nb_epoch` argument in `fit` has been renamed `epochs`.\n",
      "  warnings.warn('The `nb_epoch` argument in `fit` '\n"
     ]
    },
    {
     "name": "stdout",
     "output_type": "stream",
     "text": [
      "Train on 50000 samples, validate on 10000 samples\n",
      "Epoch 1/8\n",
      "50000/50000 [==============================] - 133s - loss: 14.4724 - acc: 0.0998 - val_loss: 14.5063 - val_acc: 0.1000\n",
      "Epoch 2/8\n",
      "50000/50000 [==============================] - 123s - loss: 14.5063 - acc: 0.1000 - val_loss: 14.5063 - val_acc: 0.1000\n",
      "Epoch 3/8\n",
      "50000/50000 [==============================] - 122s - loss: 14.5063 - acc: 0.1000 - val_loss: 14.5063 - val_acc: 0.1000\n",
      "Epoch 4/8\n",
      "50000/50000 [==============================] - 120s - loss: 14.5063 - acc: 0.1000 - val_loss: 14.5063 - val_acc: 0.1000\n",
      "Epoch 5/8\n",
      "50000/50000 [==============================] - 120s - loss: 14.5063 - acc: 0.1000 - val_loss: 14.5063 - val_acc: 0.1000\n",
      "Epoch 6/8\n",
      "50000/50000 [==============================] - 120s - loss: 14.5063 - acc: 0.1000 - val_loss: 14.5063 - val_acc: 0.1000\n",
      "Epoch 7/8\n",
      "50000/50000 [==============================] - 120s - loss: 14.5063 - acc: 0.1000 - val_loss: 14.5063 - val_acc: 0.1000\n",
      "Epoch 8/8\n",
      "50000/50000 [==============================] - 122s - loss: 14.5063 - acc: 0.1000 - val_loss: 14.5063 - val_acc: 0.1000\n"
     ]
    }
   ],
   "source": [
    "model = Sequential()\n",
    "model.add(Convolution2D(64, 20, 20, border_mode='same', input_shape=(3,32,32)))\n",
    "model.add(Activation('relu'))\n",
    "model.add(Convolution2D(64, 20, 20, border_mode='same'))\n",
    "model.add(Activation('relu'))\n",
    "model.add(MaxPooling2D(pool_size=(2, 2)))\n",
    "model.add(Dropout(0.25))\n",
    "model.add(Convolution2D(128, 3, 3, border_mode='same'))\n",
    "model.add(Activation('relu'))\n",
    "model.add(MaxPooling2D(pool_size=(2, 2), dim_ordering=\"th\"))\n",
    "model.add(Convolution2D(128, 3, 3, border_mode='same'))\n",
    "model.add(Activation('relu'))\n",
    "model.add(MaxPooling2D(pool_size=(2, 2)))\n",
    "model.add(Flatten())\n",
    "model.add(Dense(512))\n",
    "model.add(Activation('relu'))\n",
    "model.add(Dense(num_classes))\n",
    "model.add(Activation('softmax'))\n",
    "model.summary()\n",
    "\n",
    "from keras.optimizers import SGD, rmsprop\n",
    "from keras.callbacks import LearningRateScheduler\n",
    "import math\n",
    "from keras.optimizers import SGD, rmsprop\n",
    "opt = rmsprop(lr=0.001, decay=1e-6)\n",
    "model.compile(loss='categorical_crossentropy',optimizer=opt, metrics=['accuracy'])\n",
    "history_callback = model.fit(x_train, y_train,batch_size=150,nb_epoch=8,\n",
    "validation_data=(x_test, y_test),shuffle=True)"
   ]
  },
  {
   "cell_type": "markdown",
   "metadata": {},
   "source": [
    "<p> Se aprecia al agregar filtros más pequeños en las primeras capas un accuracy un poco mayor que con las capas dadas por la pregunta, y además de esto, el tiempo de entrenamiento aumenta considerablemente, por lo que en este problema especifico no es conveniente tener mayor número de filtros en el segundo par de capas convolucionales.</p>\n",
    "\n",
    "<p>En el caso de aumentar el tamaño del filtro de las primeras capas, se obtienen resultados extraños</p>"
   ]
  },
  {
   "cell_type": "markdown",
   "metadata": {},
   "source": [
    "<p>F) Algunos investigadores, han propuesto que las capas de pooling se pueden reemplazar por capas\n",
    "convoluciones con stride 2. >Se reduce dimensionalidad de este modo? Compru\u0013ebelo veri\f",
    "cando los\n",
    "cambios de forma (dimensionalidad) que experimenta un patr\u0013on de entrada a medida que se ejecuta\n",
    "un forward-pass. Entrene la red resultante con el m\u0013etodo que pre\f",
    "era, gr\u0013a\f",
    "cando los errores de entrenamiento,\n",
    "validaci\u0013on y pruebas como funci\u0013on del n\u0013umero de \\epochs\" (\f",
    "jando el m\u0013aximo en un n\u0013umero\n",
    "razonable como T = 25).</p>"
   ]
  },
  {
   "cell_type": "code",
   "execution_count": 4,
   "metadata": {
    "collapsed": false
   },
   "outputs": [
    {
     "name": "stderr",
     "output_type": "stream",
     "text": [
      "D:\\Users\\Felipe\\Anaconda3\\envs\\tensorflow\\lib\\site-packages\\ipykernel\\__main__.py:4: UserWarning: Update your `Conv2D` call to the Keras 2 API: `Conv2D(64, (20, 20), input_shape=(3, 32, 32..., padding=\"same\")`\n",
      "D:\\Users\\Felipe\\Anaconda3\\envs\\tensorflow\\lib\\site-packages\\ipykernel\\__main__.py:6: UserWarning: Update your `Conv2D` call to the Keras 2 API: `Conv2D(128, (3, 3), padding=\"same\")`\n",
      "D:\\Users\\Felipe\\Anaconda3\\envs\\tensorflow\\lib\\site-packages\\ipykernel\\__main__.py:8: UserWarning: Update your `Conv2D` call to the Keras 2 API: `Conv2D(64, (3, 3), padding=\"valid\", strides=(2, 2))`\n",
      "D:\\Users\\Felipe\\Anaconda3\\envs\\tensorflow\\lib\\site-packages\\keras\\models.py:837: UserWarning: The `nb_epoch` argument in `fit` has been renamed `epochs`.\n",
      "  warnings.warn('The `nb_epoch` argument in `fit` '\n"
     ]
    },
    {
     "name": "stdout",
     "output_type": "stream",
     "text": [
      "_________________________________________________________________\n",
      "Layer (type)                 Output Shape              Param #   \n",
      "=================================================================\n",
      "conv2d_6 (Conv2D)            (None, 64, 32, 32)        76864     \n",
      "_________________________________________________________________\n",
      "activation_9 (Activation)    (None, 64, 32, 32)        0         \n",
      "_________________________________________________________________\n",
      "conv2d_7 (Conv2D)            (None, 128, 32, 32)       73856     \n",
      "_________________________________________________________________\n",
      "activation_10 (Activation)   (None, 128, 32, 32)       0         \n",
      "_________________________________________________________________\n",
      "conv2d_8 (Conv2D)            (None, 64, 15, 15)        73792     \n",
      "_________________________________________________________________\n",
      "flatten_3 (Flatten)          (None, 14400)             0         \n",
      "_________________________________________________________________\n",
      "dense_5 (Dense)              (None, 512)               7373312   \n",
      "_________________________________________________________________\n",
      "activation_11 (Activation)   (None, 512)               0         \n",
      "_________________________________________________________________\n",
      "dense_6 (Dense)              (None, 10)                5130      \n",
      "_________________________________________________________________\n",
      "activation_12 (Activation)   (None, 10)                0         \n",
      "=================================================================\n",
      "Total params: 7,602,954\n",
      "Trainable params: 7,602,954\n",
      "Non-trainable params: 0\n",
      "_________________________________________________________________\n",
      "Train on 50000 samples, validate on 10000 samples\n",
      "Epoch 1/5\n",
      "50000/50000 [==============================] - 113s - loss: 14.4668 - acc: 0.0996 - val_loss: 14.5063 - val_acc: 0.1000\n",
      "Epoch 2/5\n",
      "50000/50000 [==============================] - 112s - loss: 14.5063 - acc: 0.1000 - val_loss: 14.5063 - val_acc: 0.1000\n",
      "Epoch 3/5\n",
      "50000/50000 [==============================] - 112s - loss: 14.5063 - acc: 0.1000 - val_loss: 14.5063 - val_acc: 0.1000\n",
      "Epoch 4/5\n",
      "50000/50000 [==============================] - 114s - loss: 14.5063 - acc: 0.1000 - val_loss: 14.5063 - val_acc: 0.1000\n",
      "Epoch 5/5\n",
      "50000/50000 [==============================] - 112s - loss: 14.5063 - acc: 0.1000 - val_loss: 14.5063 - val_acc: 0.1000\n"
     ]
    }
   ],
   "source": [
    "\n",
    "\n",
    "model = Sequential()\n",
    "model.add(Convolution2D(64, 20, 20, border_mode='same', input_shape=(3,32,32)))\n",
    "model.add(Activation('relu'))\n",
    "model.add(Convolution2D(128, 3, 3, border_mode='same'))\n",
    "model.add(Activation('relu'))\n",
    "model.add(Convolution2D(64, 3, 3, subsample=(2, 2), border_mode='valid'))\n",
    "model.add(Flatten())\n",
    "model.add(Dense(512))\n",
    "model.add(Activation('relu'))\n",
    "model.add(Dense(num_classes))\n",
    "model.add(Activation('softmax'))\n",
    "model.summary()\n",
    "\n",
    "from keras.optimizers import SGD, rmsprop\n",
    "from keras.callbacks import LearningRateScheduler\n",
    "import math\n",
    "from keras.optimizers import SGD, rmsprop\n",
    "opt = rmsprop(lr=0.001, decay=1e-6)\n",
    "model.compile(loss='categorical_crossentropy',optimizer=opt, metrics=['accuracy'])\n",
    "history_callback = model.fit(x_train, y_train,batch_size=150,nb_epoch=5,\n",
    "validation_data=(x_test, y_test),shuffle=True)"
   ]
  },
  {
   "cell_type": "markdown",
   "metadata": {
    "collapsed": true
   },
   "source": [
    "<p>G) Una forma interesante de regularizar modelos entrenados para visi\u0013on arti\f",
    "cial consiste en \\aumentar\"\n",
    "el n\u0013umero de ejemplos de entrenamiento usando transformaciones sencillas como: rotaciones,\n",
    "corrimientos y re\n",
    "exiones, tanto horizontales como verticales. Explique porqu\u0013e este procedimiento\n",
    "podr\u0013\u0010a ayudar a mejorar el modelo. Eval\u0013ue experimentalmente la conveniencia de incorporarlo.</p>"
   ]
  },
  {
   "cell_type": "code",
   "execution_count": 7,
   "metadata": {
    "collapsed": false
   },
   "outputs": [
    {
     "name": "stdout",
     "output_type": "stream",
     "text": [
      "Epoch 1/5\n",
      "333/333 [==============================] - 36s - loss: 1.6919 - acc: 0.3995 - val_loss: 1.2463 - val_acc: 0.5543\n",
      "Epoch 2/5\n",
      "333/333 [==============================] - 33s - loss: 1.2547 - acc: 0.5572 - val_loss: 1.0687 - val_acc: 0.6226\n",
      "Epoch 3/5\n",
      "333/333 [==============================] - 36s - loss: 1.0826 - acc: 0.6210 - val_loss: 0.9366 - val_acc: 0.6754\n",
      "Epoch 4/5\n",
      "333/333 [==============================] - 33s - loss: 0.9899 - acc: 0.6555 - val_loss: 0.9003 - val_acc: 0.6857\n",
      "Epoch 5/5\n",
      "333/333 [==============================] - 33s - loss: 0.9167 - acc: 0.6788 - val_loss: 0.8292 - val_acc: 0.7142\n"
     ]
    },
    {
     "data": {
      "text/plain": [
       "<keras.callbacks.History at 0x1ac254ade10>"
      ]
     },
     "execution_count": 7,
     "metadata": {},
     "output_type": "execute_result"
    }
   ],
   "source": [
    "from keras.preprocessing.image import ImageDataGenerator\n",
    "from keras.optimizers import SGD, rmsprop\n",
    "from keras.callbacks import LearningRateScheduler\n",
    "import math\n",
    "datagen = ImageDataGenerator(\n",
    "    featurewise_center=False, # set input mean to 0 over the dataset\n",
    "    samplewise_center=False, # set each sample mean to 0\n",
    "    featurewise_std_normalization=False, # divide inputs by std of the dataset\n",
    "    samplewise_std_normalization=False, # divide each input by its std\n",
    "    zca_whitening=False, # apply ZCA whitening\n",
    "    rotation_range=0, # randomly rotate images (degrees, 0 to 180)\n",
    "    width_shift_range=0.1, # randomly shift images horizontally (fraction of width)\n",
    "    height_shift_range=0.1, # randomly shift images vertically (fraction of height)\n",
    "    horizontal_flip=True, # randomly flip images\n",
    "    vertical_flip=False) # randomly flip images\n",
    "datagen.fit(x_train)\n",
    "opt = rmsprop(lr=0.001, decay=1e-6)\n",
    "model.compile(loss='categorical_crossentropy',optimizer=opt, metrics=['accuracy'])\n",
    "model.fit_generator(datagen.flow(x_train, y_train,batch_size=150),\n",
    "                    steps_per_epoch=x_train.shape[0]// 150,\n",
    "                    epochs=5,validation_data=(x_test, y_test))"
   ]
  },
  {
   "cell_type": "code",
   "execution_count": null,
   "metadata": {
    "collapsed": true
   },
   "outputs": [],
   "source": []
  }
 ],
 "metadata": {
  "anaconda-cloud": {},
  "kernelspec": {
   "display_name": "Python [conda env:tensorflow]",
   "language": "python",
   "name": "conda-env-tensorflow-py"
  },
  "language_info": {
   "codemirror_mode": {
    "name": "ipython",
    "version": 3
   },
   "file_extension": ".py",
   "mimetype": "text/x-python",
   "name": "python",
   "nbconvert_exporter": "python",
   "pygments_lexer": "ipython3",
   "version": "3.5.3"
  }
 },
 "nbformat": 4,
 "nbformat_minor": 1
}
