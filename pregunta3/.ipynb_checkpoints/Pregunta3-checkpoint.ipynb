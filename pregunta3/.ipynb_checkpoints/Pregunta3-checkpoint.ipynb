{
 "cells": [
  {
   "cell_type": "markdown",
   "metadata": {},
   "source": [
    "a) Escriba una funci\u0013on que cargue los datos desde el repositorio de keras, normalice las im\u0013agenes de\n",
    "modo que los pixeles queden en [0; 1], transforme las im\u0013agenes en vectores (2 R784) y devuelva tres\n",
    "subconjuntos disjuntos: uno de entrenamiento, uno de validaci\u0013on y uno de pruebas. Construya el\n",
    "conjunto de validaci\u0013on utilizando los \u0013ultimos nval = 5000 casos del conjunto del entrenamiento. El\n",
    "conjunto de entrenamiento consistir\u0013a en las primeras 60000 􀀀 nval im\u0013agenes."
   ]
  },
  {
   "cell_type": "code",
   "execution_count": 1,
   "metadata": {
    "collapsed": false
   },
   "outputs": [
    {
     "name": "stderr",
     "output_type": "stream",
     "text": [
      "Using TensorFlow backend.\n"
     ]
    }
   ],
   "source": [
    "from keras.datasets import mnist\n",
    "from keras.utils import np_utils\n",
    "import numpy as np\n",
    "(x_train, y_train), (x_test, y_test) = mnist.load_data()\n",
    "x_train = x_train.astype('float32') / 255.\n",
    "x_train = x_train.reshape((len(x_train), np.prod(x_train.shape[1:])))\n",
    "x_test = x_test.reshape((len(x_test), np.prod(x_test.shape[1:])))\n",
    "#Define here your validation set\n",
    "Y_train = np_utils.to_categorical(y_train, 10)\n",
    "Y_test = np_utils.to_categorical(y_test, 10)"
   ]
  },
  {
   "cell_type": "code",
   "execution_count": 2,
   "metadata": {
    "collapsed": false
   },
   "outputs": [],
   "source": [
    "x_val = x_train[-5000:]\n",
    "x_train = x_train[:-5000]\n",
    "y_val = y_train[-5000:]\n",
    "y_train = x_train[:-5000]\n"
   ]
  },
  {
   "cell_type": "markdown",
   "metadata": {},
   "source": [
    "<h5>3.1</h5>"
   ]
  },
  {
   "cell_type": "markdown",
   "metadata": {},
   "source": [
    "<p>a) Entrene un AE b\u0013asico (1 capa escondida) para generar una representaci\u0013on de MNIST en d0 = 2; 8; 32; 64\n",
    "dimensiones. Justi\f",
    "que la elecci\u0013on de la funci\u0013on de p\u0013erdida a utilizar y del criterio de entrenamiento\n",
    "en general. Determine el porcentaje de compresi\u0013on obtenido y el error de reconstrucci\u0013on en cada caso.\n",
    ">Mejora el resultado si elegimos una funci\u0013on de activaci\u0013on ReLU para el Encoder? >Podr\u0013\u0010a utilizarse\n",
    "esta activaci\u0013on en el Decoder?</p>"
   ]
  },
  {
   "cell_type": "code",
   "execution_count": 7,
   "metadata": {
    "collapsed": false,
    "scrolled": false
   },
   "outputs": [
    {
     "name": "stderr",
     "output_type": "stream",
     "text": [
      "D:\\Users\\Felipe\\Anaconda3\\envs\\tensorflow\\lib\\site-packages\\ipykernel\\__main__.py:8: UserWarning: Update your `Model` call to the Keras 2 API: `Model(outputs=Tensor(\"de..., inputs=Tensor(\"in...)`\n",
      "D:\\Users\\Felipe\\Anaconda3\\envs\\tensorflow\\lib\\site-packages\\ipykernel\\__main__.py:9: UserWarning: Update your `Model` call to the Keras 2 API: `Model(outputs=Tensor(\"de..., inputs=Tensor(\"in...)`\n",
      "D:\\Users\\Felipe\\Anaconda3\\envs\\tensorflow\\lib\\site-packages\\ipykernel\\__main__.py:12: UserWarning: Update your `Model` call to the Keras 2 API: `Model(outputs=Tensor(\"de..., inputs=Tensor(\"in...)`\n",
      "D:\\Users\\Felipe\\Anaconda3\\envs\\tensorflow\\lib\\site-packages\\ipykernel\\__main__.py:15: UserWarning: The `nb_epoch` argument in `fit` has been renamed `epochs`.\n"
     ]
    },
    {
     "name": "stdout",
     "output_type": "stream",
     "text": [
      "Train on 55000 samples, validate on 5000 samples\n",
      "Epoch 1/50\n",
      "55000/55000 [==============================] - 9s - loss: 559.1920 - acc: 0.0075 - mean_absolute_error: 0.1090 - val_loss: 546.4420 - val_acc: 0.0078 - val_mean_absolute_error: 0.0904\n",
      "Epoch 2/50\n",
      "55000/55000 [==============================] - 7s - loss: 546.9470 - acc: 0.0080 - mean_absolute_error: 0.0852 - val_loss: 540.9770 - val_acc: 0.0080 - val_mean_absolute_error: 0.0796\n",
      "Epoch 3/50\n",
      "55000/55000 [==============================] - 7s - loss: 543.4120 - acc: 0.0087 - mean_absolute_error: 0.0791 - val_loss: 539.6778 - val_acc: 0.0076 - val_mean_absolute_error: 0.0786\n",
      "Epoch 4/50\n",
      "55000/55000 [==============================] - 7s - loss: 541.2945 - acc: 0.0093 - mean_absolute_error: 0.0754 - val_loss: 537.7920 - val_acc: 0.0104 - val_mean_absolute_error: 0.0751\n",
      "Epoch 5/50\n",
      "55000/55000 [==============================] - 7s - loss: 540.4030 - acc: 0.0096 - mean_absolute_error: 0.0740 - val_loss: 536.1051 - val_acc: 0.0104 - val_mean_absolute_error: 0.0717\n",
      "Epoch 6/50\n",
      "55000/55000 [==============================] - 7s - loss: 538.8300 - acc: 0.0092 - mean_absolute_error: 0.0713 - val_loss: 535.5128 - val_acc: 0.0114 - val_mean_absolute_error: 0.0707\n",
      "Epoch 7/50\n",
      "55000/55000 [==============================] - 7s - loss: 538.2646 - acc: 0.0088 - mean_absolute_error: 0.0705 - val_loss: 534.1504 - val_acc: 0.0082 - val_mean_absolute_error: 0.0692\n",
      "Epoch 8/50\n",
      "55000/55000 [==============================] - 7s - loss: 536.9492 - acc: 0.0100 - mean_absolute_error: 0.0684 - val_loss: 533.8107 - val_acc: 0.0082 - val_mean_absolute_error: 0.0694\n",
      "Epoch 9/50\n",
      "55000/55000 [==============================] - 7s - loss: 536.3993 - acc: 0.0098 - mean_absolute_error: 0.0674 - val_loss: 533.1534 - val_acc: 0.0088 - val_mean_absolute_error: 0.0663\n",
      "Epoch 10/50\n",
      "55000/55000 [==============================] - 7s - loss: 536.2065 - acc: 0.0099 - mean_absolute_error: 0.0672 - val_loss: 532.9872 - val_acc: 0.0102 - val_mean_absolute_error: 0.0680\n",
      "Epoch 11/50\n",
      "55000/55000 [==============================] - 7s - loss: 536.0147 - acc: 0.0093 - mean_absolute_error: 0.0670 - val_loss: 532.6618 - val_acc: 0.0110 - val_mean_absolute_error: 0.0666\n",
      "Epoch 12/50\n",
      "55000/55000 [==============================] - 7s - loss: 535.6582 - acc: 0.0093 - mean_absolute_error: 0.0665 - val_loss: 531.7172 - val_acc: 0.0100 - val_mean_absolute_error: 0.0655\n",
      "Epoch 13/50\n",
      "55000/55000 [==============================] - 7s - loss: 534.5371 - acc: 0.0098 - mean_absolute_error: 0.0647 - val_loss: 530.8660 - val_acc: 0.0108 - val_mean_absolute_error: 0.0641\n",
      "Epoch 14/50\n",
      "55000/55000 [==============================] - 7s - loss: 533.7820 - acc: 0.0110 - mean_absolute_error: 0.0636 - val_loss: 530.6651 - val_acc: 0.0124 - val_mean_absolute_error: 0.0638\n",
      "Epoch 15/50\n",
      "55000/55000 [==============================] - 7s - loss: 533.5059 - acc: 0.0103 - mean_absolute_error: 0.0631 - val_loss: 530.2570 - val_acc: 0.0098 - val_mean_absolute_error: 0.0624\n",
      "Epoch 16/50\n",
      "55000/55000 [==============================] - 7s - loss: 533.3385 - acc: 0.0109 - mean_absolute_error: 0.0629 - val_loss: 530.3941 - val_acc: 0.0118 - val_mean_absolute_error: 0.0630\n",
      "Epoch 17/50\n",
      "55000/55000 [==============================] - 7s - loss: 533.2141 - acc: 0.0106 - mean_absolute_error: 0.0628 - val_loss: 530.4469 - val_acc: 0.0106 - val_mean_absolute_error: 0.0632\n",
      "Epoch 18/50\n",
      "55000/55000 [==============================] - 7s - loss: 533.0573 - acc: 0.0107 - mean_absolute_error: 0.0626 - val_loss: 529.9779 - val_acc: 0.0112 - val_mean_absolute_error: 0.0626\n",
      "Epoch 19/50\n",
      "55000/55000 [==============================] - 7s - loss: 532.9383 - acc: 0.0110 - mean_absolute_error: 0.0625 - val_loss: 529.9539 - val_acc: 0.0096 - val_mean_absolute_error: 0.0629\n",
      "Epoch 20/50\n",
      "55000/55000 [==============================] - 7s - loss: 532.8681 - acc: 0.0108 - mean_absolute_error: 0.0624 - val_loss: 529.7394 - val_acc: 0.0090 - val_mean_absolute_error: 0.0618\n",
      "Epoch 21/50\n",
      "55000/55000 [==============================] - 7s - loss: 532.7544 - acc: 0.0102 - mean_absolute_error: 0.0622 - val_loss: 529.8660 - val_acc: 0.0112 - val_mean_absolute_error: 0.0619\n",
      "Epoch 22/50\n",
      "55000/55000 [==============================] - 7s - loss: 532.6517 - acc: 0.0113 - mean_absolute_error: 0.0621 - val_loss: 529.3588 - val_acc: 0.0118 - val_mean_absolute_error: 0.0612\n",
      "Epoch 23/50\n",
      "55000/55000 [==============================] - 7s - loss: 532.5415 - acc: 0.0106 - mean_absolute_error: 0.0619 - val_loss: 529.3928 - val_acc: 0.0126 - val_mean_absolute_error: 0.0613\n",
      "Epoch 24/50\n",
      "55000/55000 [==============================] - 7s - loss: 532.4813 - acc: 0.0108 - mean_absolute_error: 0.0619 - val_loss: 529.3214 - val_acc: 0.0110 - val_mean_absolute_error: 0.0617\n",
      "Epoch 25/50\n",
      "55000/55000 [==============================] - 7s - loss: 532.4121 - acc: 0.0106 - mean_absolute_error: 0.0618 - val_loss: 529.6259 - val_acc: 0.0114 - val_mean_absolute_error: 0.0616\n",
      "Epoch 26/50\n",
      "55000/55000 [==============================] - 7s - loss: 532.3616 - acc: 0.0109 - mean_absolute_error: 0.0617 - val_loss: 529.3280 - val_acc: 0.0110 - val_mean_absolute_error: 0.0617\n",
      "Epoch 27/50\n",
      "55000/55000 [==============================] - 7s - loss: 532.3183 - acc: 0.0102 - mean_absolute_error: 0.0617 - val_loss: 529.4081 - val_acc: 0.0106 - val_mean_absolute_error: 0.0622\n",
      "Epoch 28/50\n",
      "55000/55000 [==============================] - 7s - loss: 532.2519 - acc: 0.0100 - mean_absolute_error: 0.0616 - val_loss: 529.5289 - val_acc: 0.0104 - val_mean_absolute_error: 0.0622\n",
      "Epoch 29/50\n",
      "55000/55000 [==============================] - 7s - loss: 532.2180 - acc: 0.0109 - mean_absolute_error: 0.0616 - val_loss: 529.0978 - val_acc: 0.0114 - val_mean_absolute_error: 0.0617\n",
      "Epoch 30/50\n",
      "55000/55000 [==============================] - 7s - loss: 532.1651 - acc: 0.0105 - mean_absolute_error: 0.0616 - val_loss: 529.1558 - val_acc: 0.0108 - val_mean_absolute_error: 0.0615\n",
      "Epoch 31/50\n",
      "55000/55000 [==============================] - 7s - loss: 532.1340 - acc: 0.0111 - mean_absolute_error: 0.0616 - val_loss: 529.1417 - val_acc: 0.0116 - val_mean_absolute_error: 0.0620\n",
      "Epoch 32/50\n",
      "55000/55000 [==============================] - 7s - loss: 532.0990 - acc: 0.0105 - mean_absolute_error: 0.0616 - val_loss: 529.1854 - val_acc: 0.0094 - val_mean_absolute_error: 0.0616\n",
      "Epoch 33/50\n",
      "55000/55000 [==============================] - 7s - loss: 532.0781 - acc: 0.0104 - mean_absolute_error: 0.0615 - val_loss: 529.2522 - val_acc: 0.0112 - val_mean_absolute_error: 0.0620\n",
      "Epoch 34/50\n",
      "55000/55000 [==============================] - 7s - loss: 532.0515 - acc: 0.0110 - mean_absolute_error: 0.0615 - val_loss: 529.0862 - val_acc: 0.0110 - val_mean_absolute_error: 0.0612\n",
      "Epoch 35/50\n",
      "55000/55000 [==============================] - 7s - loss: 532.0516 - acc: 0.0106 - mean_absolute_error: 0.0615 - val_loss: 529.1697 - val_acc: 0.0116 - val_mean_absolute_error: 0.0617\n",
      "Epoch 36/50\n",
      "55000/55000 [==============================] - 7s - loss: 531.9980 - acc: 0.0103 - mean_absolute_error: 0.0615 - val_loss: 529.0713 - val_acc: 0.0108 - val_mean_absolute_error: 0.0616\n",
      "Epoch 37/50\n",
      "55000/55000 [==============================] - 7s - loss: 531.9086 - acc: 0.0101 - mean_absolute_error: 0.0613 - val_loss: 529.0055 - val_acc: 0.0106 - val_mean_absolute_error: 0.0613\n",
      "Epoch 38/50\n",
      "55000/55000 [==============================] - 7s - loss: 531.8302 - acc: 0.0104 - mean_absolute_error: 0.0613 - val_loss: 528.9059 - val_acc: 0.0110 - val_mean_absolute_error: 0.0611\n",
      "Epoch 39/50\n",
      "55000/55000 [==============================] - 7s - loss: 531.7644 - acc: 0.0105 - mean_absolute_error: 0.0612 - val_loss: 528.8464 - val_acc: 0.0098 - val_mean_absolute_error: 0.0612\n",
      "Epoch 40/50\n",
      "55000/55000 [==============================] - 7s - loss: 531.6379 - acc: 0.0111 - mean_absolute_error: 0.0609 - val_loss: 528.8117 - val_acc: 0.0110 - val_mean_absolute_error: 0.0616\n",
      "Epoch 41/50\n",
      "55000/55000 [==============================] - 7s - loss: 531.5554 - acc: 0.0103 - mean_absolute_error: 0.0608 - val_loss: 528.7747 - val_acc: 0.0086 - val_mean_absolute_error: 0.0608\n",
      "Epoch 42/50\n",
      "55000/55000 [==============================] - 7s - loss: 531.4868 - acc: 0.0107 - mean_absolute_error: 0.0607 - val_loss: 528.6734 - val_acc: 0.0084 - val_mean_absolute_error: 0.0611\n",
      "Epoch 43/50\n",
      "55000/55000 [==============================] - 7s - loss: 531.4211 - acc: 0.0109 - mean_absolute_error: 0.0605 - val_loss: 528.5892 - val_acc: 0.0090 - val_mean_absolute_error: 0.0604\n",
      "Epoch 44/50\n",
      "55000/55000 [==============================] - 7s - loss: 531.3811 - acc: 0.0106 - mean_absolute_error: 0.0605 - val_loss: 528.3611 - val_acc: 0.0096 - val_mean_absolute_error: 0.0600\n",
      "Epoch 45/50\n",
      "55000/55000 [==============================] - 8s - loss: 531.3688 - acc: 0.0101 - mean_absolute_error: 0.0604 - val_loss: 528.3940 - val_acc: 0.0124 - val_mean_absolute_error: 0.0602\n",
      "Epoch 46/50\n",
      "55000/55000 [==============================] - 7s - loss: 531.3198 - acc: 0.0104 - mean_absolute_error: 0.0604 - val_loss: 528.7837 - val_acc: 0.0100 - val_mean_absolute_error: 0.0611\n",
      "Epoch 47/50\n",
      "55000/55000 [==============================] - 7s - loss: 531.2884 - acc: 0.0104 - mean_absolute_error: 0.0603 - val_loss: 528.3891 - val_acc: 0.0102 - val_mean_absolute_error: 0.0601\n",
      "Epoch 48/50\n",
      "55000/55000 [==============================] - 7s - loss: 531.2630 - acc: 0.0109 - mean_absolute_error: 0.0602 - val_loss: 528.4745 - val_acc: 0.0110 - val_mean_absolute_error: 0.0606\n",
      "Epoch 49/50\n",
      "55000/55000 [==============================] - 7s - loss: 531.2325 - acc: 0.0106 - mean_absolute_error: 0.0603 - val_loss: 528.7231 - val_acc: 0.0098 - val_mean_absolute_error: 0.0613\n",
      "Epoch 50/50\n",
      "55000/55000 [==============================] - 7s - loss: 531.2142 - acc: 0.0112 - mean_absolute_error: 0.0602 - val_loss: 528.4506 - val_acc: 0.0110 - val_mean_absolute_error: 0.0603\n"
     ]
    },
    {
     "data": {
      "text/plain": [
       "16"
      ]
     },
     "execution_count": 7,
     "metadata": {},
     "output_type": "execute_result"
    }
   ],
   "source": [
    "from keras.layers import Input, Dense\n",
    "from keras.models import Model\n",
    "from keras.optimizers import SGD\n",
    "input_img = Input(shape=(784,))\n",
    "encoded = Dense(32, activation='sigmoid')(input_img)\n",
    "decoded = Dense(784, activation='sigmoid')(encoded)\n",
    "\n",
    "autoencoder = Model(input=input_img, output=decoded)\n",
    "encoder = Model(input=input_img, output=encoded)\n",
    "encoded_input = Input(shape=(32,))\n",
    "decoder_layer = autoencoder.layers[-1]\n",
    "decoder = Model(input=encoded_input, output=decoder_layer(encoded_input))\n",
    "autoencoder.compile(optimizer=SGD(lr=1.0), loss='categorical_crossentropy', metrics=['accuracy', 'mae'])\n",
    "autoencoder.fit(x_train,x_train,nb_epoch=50,batch_size=25,shuffle=True,\n",
    "                    validation_data=(x_val, x_val))\n",
    "autoencoder.save('basic_autoencoder_768x32.h5')\n",
    "16 #save other stuff ..."
   ]
  },
  {
   "cell_type": "markdown",
   "metadata": {},
   "source": [
    "<p>Compare visualmente la reconstrucci\u0013on que logra hacer el autoencoder desde la representaci\u0013on en Rd0\n",
    "para algunas im\u0013agenes del conjunto de pruebas. Determine si la percepci\u0013on visual se corresponde con\n",
    "el error de reconstrucci\u0013on observada. Comente.</p>"
   ]
  },
  {
   "cell_type": "code",
   "execution_count": 3,
   "metadata": {
    "collapsed": false
   },
   "outputs": [
    {
     "name": "stderr",
     "output_type": "stream",
     "text": [
      "D:\\Users\\Felipe\\Anaconda3\\envs\\tensorflow\\lib\\site-packages\\ipykernel\\__main__.py:10: UserWarning: Update your `Model` call to the Keras 2 API: `Model(inputs=Tensor(\"in..., outputs=Tensor(\"de...)`\n",
      "D:\\Users\\Felipe\\Anaconda3\\envs\\tensorflow\\lib\\site-packages\\ipykernel\\__main__.py:11: UserWarning: Update your `Model` call to the Keras 2 API: `Model(inputs=Tensor(\"in..., outputs=Tensor(\"de...)`\n",
      "D:\\Users\\Felipe\\Anaconda3\\envs\\tensorflow\\lib\\site-packages\\ipykernel\\__main__.py:14: UserWarning: Update your `Model` call to the Keras 2 API: `Model(inputs=Tensor(\"in..., outputs=Tensor(\"de...)`\n",
      "D:\\Users\\Felipe\\Anaconda3\\envs\\tensorflow\\lib\\site-packages\\ipykernel\\__main__.py:17: UserWarning: The `nb_epoch` argument in `fit` has been renamed `epochs`.\n"
     ]
    },
    {
     "name": "stdout",
     "output_type": "stream",
     "text": [
      "Train on 55000 samples, validate on 5000 samples\n",
      "Epoch 1/50\n",
      "55000/55000 [==============================] - 9s - loss: 551.0964 - acc: 0.0090 - mean_absolute_error: 0.0936 - val_loss: 535.7949 - val_acc: 0.0124 - val_mean_absolute_error: 0.0699\n",
      "Epoch 2/50\n",
      "55000/55000 [==============================] - 7s - loss: 537.3029 - acc: 0.0105 - mean_absolute_error: 0.0681 - val_loss: 533.0474 - val_acc: 0.0082 - val_mean_absolute_error: 0.0660\n",
      "Epoch 3/50\n",
      "55000/55000 [==============================] - 7s - loss: 535.7534 - acc: 0.0104 - mean_absolute_error: 0.0658 - val_loss: 532.7840 - val_acc: 0.0084 - val_mean_absolute_error: 0.0679\n",
      "Epoch 4/50\n",
      "55000/55000 [==============================] - 7s - loss: 535.0104 - acc: 0.0098 - mean_absolute_error: 0.0647 - val_loss: 532.0801 - val_acc: 0.0076 - val_mean_absolute_error: 0.0648\n",
      "Epoch 5/50\n",
      "55000/55000 [==============================] - 7s - loss: 534.4183 - acc: 0.0093 - mean_absolute_error: 0.0639 - val_loss: 531.3229 - val_acc: 0.0068 - val_mean_absolute_error: 0.0630\n",
      "Epoch 6/50\n",
      "55000/55000 [==============================] - 7s - loss: 534.0053 - acc: 0.0097 - mean_absolute_error: 0.0633 - val_loss: 530.6167 - val_acc: 0.0112 - val_mean_absolute_error: 0.0634\n",
      "Epoch 7/50\n",
      "55000/55000 [==============================] - 7s - loss: 533.6985 - acc: 0.0097 - mean_absolute_error: 0.0629 - val_loss: 530.6080 - val_acc: 0.0080 - val_mean_absolute_error: 0.0628\n",
      "Epoch 8/50\n",
      "55000/55000 [==============================] - 7s - loss: 533.4919 - acc: 0.0097 - mean_absolute_error: 0.0627 - val_loss: 530.1603 - val_acc: 0.0094 - val_mean_absolute_error: 0.0620\n",
      "Epoch 9/50\n",
      "55000/55000 [==============================] - 7s - loss: 533.3234 - acc: 0.0096 - mean_absolute_error: 0.0624 - val_loss: 530.2840 - val_acc: 0.0086 - val_mean_absolute_error: 0.0614\n",
      "Epoch 10/50\n",
      "55000/55000 [==============================] - 7s - loss: 533.1811 - acc: 0.0101 - mean_absolute_error: 0.0623 - val_loss: 530.2592 - val_acc: 0.0102 - val_mean_absolute_error: 0.0629\n",
      "Epoch 11/50\n",
      "55000/55000 [==============================] - 7s - loss: 533.0545 - acc: 0.0105 - mean_absolute_error: 0.0621 - val_loss: 529.9464 - val_acc: 0.0102 - val_mean_absolute_error: 0.0616\n",
      "Epoch 12/50\n",
      "55000/55000 [==============================] - 7s - loss: 532.9250 - acc: 0.0104 - mean_absolute_error: 0.0619 - val_loss: 530.2289 - val_acc: 0.0102 - val_mean_absolute_error: 0.0633\n",
      "Epoch 13/50\n",
      "55000/55000 [==============================] - 7s - loss: 532.8430 - acc: 0.0106 - mean_absolute_error: 0.0619 - val_loss: 529.9984 - val_acc: 0.0098 - val_mean_absolute_error: 0.0626\n",
      "Epoch 14/50\n",
      "55000/55000 [==============================] - 7s - loss: 532.7324 - acc: 0.0103 - mean_absolute_error: 0.0617 - val_loss: 529.8667 - val_acc: 0.0106 - val_mean_absolute_error: 0.0613\n",
      "Epoch 15/50\n",
      "55000/55000 [==============================] - 7s - loss: 532.6306 - acc: 0.0102 - mean_absolute_error: 0.0617 - val_loss: 529.8029 - val_acc: 0.0102 - val_mean_absolute_error: 0.0627\n",
      "Epoch 16/50\n",
      "55000/55000 [==============================] - 7s - loss: 532.5774 - acc: 0.0099 - mean_absolute_error: 0.0616 - val_loss: 529.6564 - val_acc: 0.0096 - val_mean_absolute_error: 0.0616\n",
      "Epoch 17/50\n",
      "55000/55000 [==============================] - 7s - loss: 532.5168 - acc: 0.0102 - mean_absolute_error: 0.0615 - val_loss: 529.5733 - val_acc: 0.0102 - val_mean_absolute_error: 0.0622\n",
      "Epoch 18/50\n",
      "55000/55000 [==============================] - 7s - loss: 532.4617 - acc: 0.0103 - mean_absolute_error: 0.0614 - val_loss: 529.6271 - val_acc: 0.0114 - val_mean_absolute_error: 0.0606\n",
      "Epoch 19/50\n",
      "55000/55000 [==============================] - 7s - loss: 532.4174 - acc: 0.0101 - mean_absolute_error: 0.0614 - val_loss: 529.6032 - val_acc: 0.0102 - val_mean_absolute_error: 0.0623\n",
      "Epoch 20/50\n",
      "55000/55000 [==============================] - 7s - loss: 532.3634 - acc: 0.0103 - mean_absolute_error: 0.0613 - val_loss: 529.6043 - val_acc: 0.0126 - val_mean_absolute_error: 0.0615\n",
      "Epoch 21/50\n",
      "55000/55000 [==============================] - 7s - loss: 532.3060 - acc: 0.0105 - mean_absolute_error: 0.0613 - val_loss: 529.5570 - val_acc: 0.0116 - val_mean_absolute_error: 0.0616\n",
      "Epoch 22/50\n",
      "55000/55000 [==============================] - 7s - loss: 532.3025 - acc: 0.0108 - mean_absolute_error: 0.0613 - val_loss: 529.2599 - val_acc: 0.0120 - val_mean_absolute_error: 0.0617\n",
      "Epoch 23/50\n",
      "55000/55000 [==============================] - 7s - loss: 532.2313 - acc: 0.0105 - mean_absolute_error: 0.0612 - val_loss: 529.5753 - val_acc: 0.0112 - val_mean_absolute_error: 0.0626\n",
      "Epoch 24/50\n",
      "55000/55000 [==============================] - 7s - loss: 532.2512 - acc: 0.0102 - mean_absolute_error: 0.0613 - val_loss: 529.1359 - val_acc: 0.0084 - val_mean_absolute_error: 0.0613\n",
      "Epoch 25/50\n",
      "55000/55000 [==============================] - 7s - loss: 532.2090 - acc: 0.0098 - mean_absolute_error: 0.0612 - val_loss: 529.2795 - val_acc: 0.0108 - val_mean_absolute_error: 0.0615\n",
      "Epoch 26/50\n",
      "55000/55000 [==============================] - 7s - loss: 532.2292 - acc: 0.0106 - mean_absolute_error: 0.0612 - val_loss: 529.3843 - val_acc: 0.0086 - val_mean_absolute_error: 0.0610\n",
      "Epoch 27/50\n",
      "55000/55000 [==============================] - 7s - loss: 532.1465 - acc: 0.0100 - mean_absolute_error: 0.0612 - val_loss: 529.1360 - val_acc: 0.0112 - val_mean_absolute_error: 0.0609\n",
      "Epoch 28/50\n",
      "55000/55000 [==============================] - 8s - loss: 532.1310 - acc: 0.0104 - mean_absolute_error: 0.0612 - val_loss: 529.3976 - val_acc: 0.0116 - val_mean_absolute_error: 0.0617\n",
      "Epoch 29/50\n",
      "55000/55000 [==============================] - 7s - loss: 532.1261 - acc: 0.0099 - mean_absolute_error: 0.0612 - val_loss: 529.1672 - val_acc: 0.0094 - val_mean_absolute_error: 0.0613\n",
      "Epoch 30/50\n",
      "55000/55000 [==============================] - 7s - loss: 532.1269 - acc: 0.0106 - mean_absolute_error: 0.0612 - val_loss: 529.1659 - val_acc: 0.0088 - val_mean_absolute_error: 0.0615\n",
      "Epoch 31/50\n",
      "55000/55000 [==============================] - 7s - loss: 532.0769 - acc: 0.0103 - mean_absolute_error: 0.0611 - val_loss: 529.4283 - val_acc: 0.0086 - val_mean_absolute_error: 0.0613\n",
      "Epoch 32/50\n",
      "55000/55000 [==============================] - 7s - loss: 532.0528 - acc: 0.0110 - mean_absolute_error: 0.0611 - val_loss: 529.2646 - val_acc: 0.0122 - val_mean_absolute_error: 0.0611\n",
      "Epoch 33/50\n",
      "55000/55000 [==============================] - 7s - loss: 532.0129 - acc: 0.0105 - mean_absolute_error: 0.0610 - val_loss: 529.1242 - val_acc: 0.0126 - val_mean_absolute_error: 0.0608\n",
      "Epoch 34/50\n",
      "55000/55000 [==============================] - 7s - loss: 531.9802 - acc: 0.0097 - mean_absolute_error: 0.0610 - val_loss: 529.1410 - val_acc: 0.0098 - val_mean_absolute_error: 0.0606\n",
      "Epoch 35/50\n",
      "55000/55000 [==============================] - 7s - loss: 531.9366 - acc: 0.0104 - mean_absolute_error: 0.0610 - val_loss: 529.1356 - val_acc: 0.0076 - val_mean_absolute_error: 0.0615\n",
      "Epoch 36/50\n",
      "55000/55000 [==============================] - 7s - loss: 531.8839 - acc: 0.0099 - mean_absolute_error: 0.0608 - val_loss: 529.0336 - val_acc: 0.0078 - val_mean_absolute_error: 0.0614\n",
      "Epoch 37/50\n",
      "55000/55000 [==============================] - 7s - loss: 531.8872 - acc: 0.0100 - mean_absolute_error: 0.0609 - val_loss: 529.1700 - val_acc: 0.0082 - val_mean_absolute_error: 0.0618\n",
      "Epoch 38/50\n",
      "55000/55000 [==============================] - 7s - loss: 531.8373 - acc: 0.0099 - mean_absolute_error: 0.0608 - val_loss: 529.0328 - val_acc: 0.0102 - val_mean_absolute_error: 0.0612\n",
      "Epoch 39/50\n",
      "55000/55000 [==============================] - 7s - loss: 531.7688 - acc: 0.0110 - mean_absolute_error: 0.0607 - val_loss: 529.4355 - val_acc: 0.0110 - val_mean_absolute_error: 0.0612\n",
      "Epoch 40/50\n",
      "55000/55000 [==============================] - 7s - loss: 531.7423 - acc: 0.0106 - mean_absolute_error: 0.0607 - val_loss: 528.8553 - val_acc: 0.0102 - val_mean_absolute_error: 0.0611\n",
      "Epoch 41/50\n",
      "55000/55000 [==============================] - 7s - loss: 531.7575 - acc: 0.0105 - mean_absolute_error: 0.0607 - val_loss: 528.6902 - val_acc: 0.0102 - val_mean_absolute_error: 0.0615\n",
      "Epoch 42/50\n",
      "55000/55000 [==============================] - 7s - loss: 531.6772 - acc: 0.0099 - mean_absolute_error: 0.0606 - val_loss: 528.7958 - val_acc: 0.0080 - val_mean_absolute_error: 0.0609\n",
      "Epoch 43/50\n",
      "55000/55000 [==============================] - 7s - loss: 531.6941 - acc: 0.0102 - mean_absolute_error: 0.0606 - val_loss: 528.8078 - val_acc: 0.0094 - val_mean_absolute_error: 0.0604\n",
      "Epoch 44/50\n",
      "55000/55000 [==============================] - 7s - loss: 531.6589 - acc: 0.0096 - mean_absolute_error: 0.0606 - val_loss: 528.9418 - val_acc: 0.0114 - val_mean_absolute_error: 0.0603\n",
      "Epoch 45/50\n",
      "55000/55000 [==============================] - 7s - loss: 531.6441 - acc: 0.0098 - mean_absolute_error: 0.0606 - val_loss: 528.7684 - val_acc: 0.0104 - val_mean_absolute_error: 0.0608\n",
      "Epoch 46/50\n",
      "55000/55000 [==============================] - 7s - loss: 531.6416 - acc: 0.0095 - mean_absolute_error: 0.0606 - val_loss: 528.9045 - val_acc: 0.0104 - val_mean_absolute_error: 0.0612\n",
      "Epoch 47/50\n",
      "55000/55000 [==============================] - 7s - loss: 531.6480 - acc: 0.0101 - mean_absolute_error: 0.0606 - val_loss: 529.0261 - val_acc: 0.0098 - val_mean_absolute_error: 0.0616\n",
      "Epoch 48/50\n",
      "55000/55000 [==============================] - 7s - loss: 531.5868 - acc: 0.0095 - mean_absolute_error: 0.0605 - val_loss: 528.7843 - val_acc: 0.0092 - val_mean_absolute_error: 0.0614\n",
      "Epoch 49/50\n",
      "55000/55000 [==============================] - 7s - loss: 531.6150 - acc: 0.0103 - mean_absolute_error: 0.0606 - val_loss: 528.6848 - val_acc: 0.0090 - val_mean_absolute_error: 0.0606\n",
      "Epoch 50/50\n",
      "55000/55000 [==============================] - 7s - loss: 531.5731 - acc: 0.0100 - mean_absolute_error: 0.0605 - val_loss: 528.5410 - val_acc: 0.0086 - val_mean_absolute_error: 0.0611\n"
     ]
    },
    {
     "ename": "NameError",
     "evalue": "name 'plt' is not defined",
     "output_type": "error",
     "traceback": [
      "\u001b[1;31m---------------------------------------------------------------------------\u001b[0m",
      "\u001b[1;31mNameError\u001b[0m                                 Traceback (most recent call last)",
      "\u001b[1;32m<ipython-input-3-7c4e5ca6e488>\u001b[0m in \u001b[0;36m<module>\u001b[1;34m()\u001b[0m\n\u001b[0;32m     24\u001b[0m \u001b[1;32mimport\u001b[0m \u001b[0mmatplotlib\u001b[0m\u001b[1;33m\u001b[0m\u001b[0m\n\u001b[0;32m     25\u001b[0m \u001b[0mn\u001b[0m \u001b[1;33m=\u001b[0m \u001b[1;36m10\u001b[0m\u001b[1;33m\u001b[0m\u001b[0m\n\u001b[1;32m---> 26\u001b[1;33m \u001b[0mplt\u001b[0m\u001b[1;33m.\u001b[0m\u001b[0mfigure\u001b[0m\u001b[1;33m(\u001b[0m\u001b[0mfigsize\u001b[0m\u001b[1;33m=\u001b[0m\u001b[1;33m(\u001b[0m\u001b[1;36m20\u001b[0m\u001b[1;33m,\u001b[0m \u001b[1;36m4\u001b[0m\u001b[1;33m)\u001b[0m\u001b[1;33m)\u001b[0m\u001b[1;33m\u001b[0m\u001b[0m\n\u001b[0m\u001b[0;32m     27\u001b[0m \u001b[1;32mfor\u001b[0m \u001b[0mi\u001b[0m \u001b[1;32min\u001b[0m \u001b[0mrange\u001b[0m\u001b[1;33m(\u001b[0m\u001b[0mn\u001b[0m\u001b[1;33m)\u001b[0m\u001b[1;33m:\u001b[0m\u001b[1;33m\u001b[0m\u001b[0m\n\u001b[0;32m     28\u001b[0m     \u001b[0max\u001b[0m \u001b[1;33m=\u001b[0m \u001b[0mplt\u001b[0m\u001b[1;33m.\u001b[0m\u001b[0msubplot\u001b[0m\u001b[1;33m(\u001b[0m\u001b[1;36m2\u001b[0m\u001b[1;33m,\u001b[0m \u001b[0mn\u001b[0m\u001b[1;33m,\u001b[0m \u001b[0mi\u001b[0m \u001b[1;33m+\u001b[0m \u001b[1;36m1\u001b[0m\u001b[1;33m)\u001b[0m\u001b[1;33m\u001b[0m\u001b[0m\n",
      "\u001b[1;31mNameError\u001b[0m: name 'plt' is not defined"
     ]
    }
   ],
   "source": [
    "from keras.models import load_model\n",
    "import h5py\n",
    "from keras.layers import Input, Dense\n",
    "from keras.models import Model\n",
    "from keras.optimizers import SGD\n",
    "input_img = Input(shape=(784,))\n",
    "encoded = Dense(32, activation='sigmoid')(input_img)\n",
    "decoded = Dense(784, activation='sigmoid')(encoded)\n",
    "\n",
    "autoencoder = Model(input=input_img, output=decoded)\n",
    "encoder = Model(input=input_img, output=encoded)\n",
    "encoded_input = Input(shape=(32,))\n",
    "decoder_layer = autoencoder.layers[-1]\n",
    "decoder = Model(input=encoded_input, output=decoder_layer(encoded_input))\n",
    "autoencoder.compile(optimizer=SGD(lr=1.0), loss='categorical_crossentropy', metrics=['accuracy', 'mae'])\n",
    "autoencoder.fit(x_train,x_train,nb_epoch=50,batch_size=25,shuffle=True,\n",
    "                    validation_data=(x_val, x_val))\n",
    "autoencoder.save('basic_autoencoder_768x32.h5')\n",
    "16 #save other stuff ...\n",
    "autoencoder = load_model('basic_autoencoder_768x32.h5')\n",
    "#load other stuff ...\n",
    "encoded_test = encoder.predict(x_test)\n",
    "decoded_test = decoder.predict(encoded_test)\n",
    "import matplotlib\n",
    "n = 10\n",
    "plt.figure(figsize=(20, 4))\n",
    "for i in range(n):\n",
    "    ax = plt.subplot(2, n, i + 1)\n",
    "    plt.imshow(x_test[i].reshape(28, 28))\n",
    "    plt.gray()\n",
    "    ax.get_xaxis().set_visible(False)\n",
    "    ax.get_yaxis().set_visible(False)\n",
    "    ax = plt.subplot(2, n, i + 1 + n)\n",
    "    plt.imshow(decoded_test[i].reshape(28, 28))\n",
    "    plt.gray()\n",
    "    ax.get_xaxis().set_visible(False)\n",
    "    ax.get_yaxis().set_visible(False)\n",
    "plt.show()"
   ]
  },
  {
   "cell_type": "code",
   "execution_count": 4,
   "metadata": {
    "collapsed": false
   },
   "outputs": [
    {
     "data": {
      "image/png": "[encoded data removed]",
      "text/plain": [
       "<matplotlib.figure.Figure at 0x24ce36c9ba8>"
      ]
     },
     "metadata": {},
     "output_type": "display_data"
    }
   ],
   "source": [
    "import matplotlib.pyplot as plt\n",
    "plt.figure(figsize=(20, 4))\n",
    "for i in range(n):\n",
    "    ax = plt.subplot(2, n, i + 1)\n",
    "    plt.imshow(x_test[i].reshape(28, 28))\n",
    "    plt.gray()\n",
    "    ax.get_xaxis().set_visible(False)\n",
    "    ax.get_yaxis().set_visible(False)\n",
    "    ax = plt.subplot(2, n, i + 1 + n)\n",
    "    plt.imshow(decoded_test[i].reshape(28, 28))\n",
    "    plt.gray()\n",
    "    ax.get_xaxis().set_visible(False)\n",
    "    ax.get_yaxis().set_visible(False)\n",
    "plt.show()"
   ]
  },
  {
   "cell_type": "markdown",
   "metadata": {},
   "source": [
    "C) Para veri\f",
    "car la calidad de la representaci\u0013on obtenida, implemente el siguiente clasi\f",
    "cador, denominado\n",
    "kNN (k-nearest neighbor): dada una imagen x, el clasi\f",
    "cador busca las k = 10 im\u0013agenes de\n",
    "entrenamiento m\u0013as similares Nx = fx(ki)g10\n",
    "i=1 (de acuerdo a una distancia, e.g. euclidiana) y predice\n",
    "como clase, la etiqueta m\u0013as popular entre las im\u0013agenes Nx. Mida el error de pruebas obtenido construyendo\n",
    "este clasi\f",
    "cador sobre la data original y luego sobre la data reducida. Compare adem\u0013as los\n",
    "tiempos medios de predicci\u0013on en ambos escenarios."
   ]
  },
  {
   "cell_type": "code",
   "execution_count": null,
   "metadata": {
    "collapsed": false
   },
   "outputs": [],
   "source": [
    "encoded_train = encoder.predict(x_train)\n",
    "encoded_test = encoder.predict(x_test)\n",
    "from sklearn.neighbors import KNeighborsClassifier\n",
    "clf = KNeighborsClassifier(10)\n",
    "clf.fit(encoded_train, y_train)\n",
    "clf.fit(encoded_train, y_train)\n",
    "print('Classification Accuracy %.2f' % clf.score(encoded_test,y_test))"
   ]
  },
  {
   "cell_type": "code",
   "execution_count": null,
   "metadata": {
    "collapsed": true
   },
   "outputs": [],
   "source": []
  }
 ],
 "metadata": {
  "anaconda-cloud": {},
  "kernelspec": {
   "display_name": "Python [conda env:tensorflow]",
   "language": "python",
   "name": "conda-env-tensorflow-py"
  },
  "language_info": {
   "codemirror_mode": {
    "name": "ipython",
    "version": 3
   },
   "file_extension": ".py",
   "mimetype": "text/x-python",
   "name": "python",
   "nbconvert_exporter": "python",
   "pygments_lexer": "ipython3",
   "version": "3.5.3"
  }
 },
 "nbformat": 4,
 "nbformat_minor": 1
}
